{
  "cells": [
    {
      "cell_type": "markdown",
      "source": [
        "Name: Varsha Kini\n",
        "\n",
        "USC ID: 4013488464\n",
        "\n",
        "\n",
        "Github Username: Varsha-Kini"
      ],
      "metadata": {
        "id": "EVZ9us2uBxyx"
      }
    },
    {
      "cell_type": "code",
      "execution_count": 2,
      "metadata": {
        "id": "se1suRYTPD-c"
      },
      "outputs": [],
      "source": [
        "import pandas as pd\n",
        "import keras\n",
        "import tensorflow as tf\n",
        "from keras.preprocessing.image import ImageDataGenerator\n",
        "from tensorflow.keras.applications.vgg16 import VGG16\n",
        "from tensorflow.keras.applications import EfficientNetB0\n",
        "from tensorflow.keras.applications.vgg16 import preprocess_input\n",
        "from tensorflow.keras.models import Model\n",
        "import numpy as np\n",
        "import datetime\n",
        "from tensorflow.keras import layers\n",
        "from scipy.interpolate import interp1d\n",
        "import matplotlib.pyplot as plt\n",
        "from tensorflow.keras.layers.experimental import preprocessing\n",
        "from tensorflow.keras.models import Sequential\n",
        "from tensorflow.keras import layers\n",
        "from keras import backend as K\n",
        "from sklearn.metrics import accuracy_score\n",
        "from sklearn.metrics import precision_score\n",
        "from sklearn.metrics import recall_score\n",
        "from sklearn.metrics import f1_score\n",
        "from keras.applications.vgg16 import VGG16, preprocess_input\n"
      ]
    },
    {
      "cell_type": "code",
      "execution_count": 7,
      "metadata": {
        "id": "twJb_c1I-BS4"
      },
      "outputs": [],
      "source": [
        "data_directory = \"/content/drive/MyDrive/Data/images\""
      ]
    },
    {
      "cell_type": "code",
      "execution_count": 4,
      "metadata": {
        "colab": {
          "base_uri": "https://localhost:8080/"
        },
        "id": "2t4oCaRXPrKu",
        "outputId": "6b976e22-1657-4ba2-8050-3dcee71b5c5b"
      },
      "outputs": [
        {
          "output_type": "stream",
          "name": "stdout",
          "text": [
            "Looking in indexes: https://pypi.org/simple, https://us-python.pkg.dev/colab-wheels/public/simple/\n",
            "Collecting split_folders\n",
            "  Downloading split_folders-0.5.1-py3-none-any.whl (8.4 kB)\n",
            "Installing collected packages: split-folders\n",
            "Successfully installed split-folders-0.5.1\n"
          ]
        }
      ],
      "source": [
        "!pip install split_folders"
      ]
    },
    {
      "cell_type": "code",
      "execution_count": 8,
      "metadata": {
        "id": "0sg_Jb0tsX5f",
        "colab": {
          "base_uri": "https://localhost:8080/"
        },
        "outputId": "0622b6dd-14e7-425b-edb8-d0f5146c7eb6"
      },
      "outputs": [
        {
          "output_type": "stream",
          "name": "stderr",
          "text": [
            "Copying files: 1176 files [06:55,  2.83 files/s]\n"
          ]
        }
      ],
      "source": [
        "# Reference: https://pypi.org/project/split-folders/\n",
        "import splitfolders \n",
        "output = \"/content/drive/MyDrive/Data\" \n",
        "\n",
        "splitfolders.ratio(data_directory, output=output, seed=1337, ratio=(0.715,0.16,0.125))"
      ]
    },
    {
      "cell_type": "markdown",
      "source": [
        "VGG-16 Model"
      ],
      "metadata": {
        "id": "WWuthRv8CeQw"
      }
    },
    {
      "cell_type": "code",
      "execution_count": 10,
      "metadata": {
        "colab": {
          "base_uri": "https://localhost:8080/"
        },
        "id": "LXoC_vCMTdQQ",
        "outputId": "4fc484a7-4515-4552-ad7c-e6e696a5cf04"
      },
      "outputs": [
        {
          "output_type": "stream",
          "name": "stdout",
          "text": [
            "Found 827 images belonging to 20 classes.\n",
            "Found 178 images belonging to 20 classes.\n",
            "Found 171 images belonging to 20 classes.\n"
          ]
        }
      ],
      "source": [
        "# Reference: https://www.tensorflow.org/api_docs/python/tf/keras/preprocessing/image/ImageDataGenerator\n",
        "# Reference: https://www.kaggle.com/code/sriharipramod/loading-images-multiclass-image-classification\n",
        "train_datagen = ImageDataGenerator(\n",
        "    rotation_range = 20,\n",
        "    width_shift_range = 0.2,\n",
        "    height_shift_range = 0.2,\n",
        "    shear_range = 0.2,\n",
        "    zoom_range = 0.2,\n",
        "    fill_mode = 'nearest',\n",
        "    horizontal_flip = True,\n",
        "    vertical_flip = True,\n",
        "    preprocessing_function=preprocess_input\n",
        ")\n",
        "val_datagen = ImageDataGenerator(preprocessing_function=preprocess_input)\n",
        "test_datagen = ImageDataGenerator(preprocessing_function=preprocess_input)\n",
        "train_ds = train_datagen.flow_from_directory(\n",
        "  \"/content/drive/MyDrive/Data/train\", \n",
        "  seed=1,\n",
        "  target_size=(256, 256), \n",
        "  batch_size=5,\n",
        "  class_mode='categorical',\n",
        "  subset='training'\n",
        ")\n",
        "\n",
        "validation_ds = val_datagen.flow_from_directory(\n",
        "  \"/content/drive/MyDrive/Data/val\",\n",
        "  target_size=(256,256),\n",
        "  batch_size=5,\n",
        "  class_mode='categorical'\n",
        ")\n",
        "\n",
        "test_ds = test_datagen.flow_from_directory(\n",
        "    \"/content/drive/MyDrive/Data/test\",\n",
        "  target_size=(256,256),\n",
        "  batch_size=5,\n",
        "  class_mode='categorical',\n",
        "  shuffle=False\n",
        ")"
      ]
    },
    {
      "cell_type": "code",
      "source": [
        "from google.colab import drive\n",
        "drive.mount('/content/drive')"
      ],
      "metadata": {
        "colab": {
          "base_uri": "https://localhost:8080/"
        },
        "id": "useL5yzAwW6w",
        "outputId": "86fd1889-bc57-44a1-9de6-d0faaf158911"
      },
      "execution_count": 6,
      "outputs": [
        {
          "output_type": "stream",
          "name": "stdout",
          "text": [
            "Mounted at /content/drive\n"
          ]
        }
      ]
    },
    {
      "cell_type": "code",
      "execution_count": 11,
      "metadata": {
        "colab": {
          "base_uri": "https://localhost:8080/"
        },
        "id": "eA0mX4h5V_ma",
        "outputId": "deb8e7eb-bc96-4ef0-836e-e560b832f1ea"
      },
      "outputs": [
        {
          "output_type": "stream",
          "name": "stdout",
          "text": [
            "Downloading data from https://storage.googleapis.com/tensorflow/keras-applications/vgg16/vgg16_weights_tf_dim_ordering_tf_kernels_notop.h5\n",
            "58889256/58889256 [==============================] - 2s 0us/step\n",
            "Epoch 1/50\n",
            "166/166 [==============================] - ETA: 0s - loss: 1.8308 - acc: 0.4522\n",
            "Epoch 1: val_acc improved from -inf to 0.75281, saving model to vgg_16.hdf5\n",
            "166/166 [==============================] - 34s 154ms/step - loss: 1.8308 - acc: 0.4522 - val_loss: 0.9475 - val_acc: 0.7528\n",
            "Epoch 2/50\n",
            "166/166 [==============================] - ETA: 0s - loss: 1.0116 - acc: 0.7195\n",
            "Epoch 2: val_acc improved from 0.75281 to 0.75843, saving model to vgg_16.hdf5\n",
            "166/166 [==============================] - 21s 124ms/step - loss: 1.0116 - acc: 0.7195 - val_loss: 0.8810 - val_acc: 0.7584\n",
            "Epoch 3/50\n",
            "166/166 [==============================] - ETA: 0s - loss: 0.9114 - acc: 0.7304\n",
            "Epoch 3: val_acc improved from 0.75843 to 0.79213, saving model to vgg_16.hdf5\n",
            "166/166 [==============================] - 20s 122ms/step - loss: 0.9114 - acc: 0.7304 - val_loss: 0.7196 - val_acc: 0.7921\n",
            "Epoch 4/50\n",
            "166/166 [==============================] - ETA: 0s - loss: 0.7862 - acc: 0.7545\n",
            "Epoch 4: val_acc did not improve from 0.79213\n",
            "166/166 [==============================] - 21s 127ms/step - loss: 0.7862 - acc: 0.7545 - val_loss: 0.7108 - val_acc: 0.7697\n",
            "Epoch 5/50\n",
            "166/166 [==============================] - ETA: 0s - loss: 0.7233 - acc: 0.7763\n",
            "Epoch 5: val_acc did not improve from 0.79213\n",
            "166/166 [==============================] - 20s 122ms/step - loss: 0.7233 - acc: 0.7763 - val_loss: 0.7382 - val_acc: 0.7921\n",
            "Epoch 6/50\n",
            "166/166 [==============================] - ETA: 0s - loss: 0.7339 - acc: 0.7545\n",
            "Epoch 6: val_acc did not improve from 0.79213\n",
            "166/166 [==============================] - 20s 120ms/step - loss: 0.7339 - acc: 0.7545 - val_loss: 0.8293 - val_acc: 0.7584\n",
            "Epoch 7/50\n",
            "166/166 [==============================] - ETA: 0s - loss: 0.6631 - acc: 0.7872\n",
            "Epoch 7: val_acc improved from 0.79213 to 0.82022, saving model to vgg_16.hdf5\n",
            "166/166 [==============================] - 20s 122ms/step - loss: 0.6631 - acc: 0.7872 - val_loss: 0.5283 - val_acc: 0.8202\n",
            "Epoch 8/50\n",
            "166/166 [==============================] - ETA: 0s - loss: 0.6529 - acc: 0.8053\n",
            "Epoch 8: val_acc did not improve from 0.82022\n",
            "166/166 [==============================] - 20s 120ms/step - loss: 0.6529 - acc: 0.8053 - val_loss: 0.6414 - val_acc: 0.8090\n",
            "Epoch 9/50\n",
            "166/166 [==============================] - ETA: 0s - loss: 0.5841 - acc: 0.8102\n",
            "Epoch 9: val_acc did not improve from 0.82022\n",
            "166/166 [==============================] - 20s 119ms/step - loss: 0.5841 - acc: 0.8102 - val_loss: 0.6046 - val_acc: 0.8146\n",
            "Epoch 10/50\n",
            "166/166 [==============================] - ETA: 0s - loss: 0.5791 - acc: 0.8368\n",
            "Epoch 10: val_acc improved from 0.82022 to 0.83146, saving model to vgg_16.hdf5\n",
            "166/166 [==============================] - 21s 124ms/step - loss: 0.5791 - acc: 0.8368 - val_loss: 0.5509 - val_acc: 0.8315\n",
            "Epoch 11/50\n",
            "166/166 [==============================] - ETA: 0s - loss: 0.5657 - acc: 0.8259\n",
            "Epoch 11: val_acc did not improve from 0.83146\n",
            "166/166 [==============================] - 21s 124ms/step - loss: 0.5657 - acc: 0.8259 - val_loss: 0.6516 - val_acc: 0.8034\n",
            "Epoch 12/50\n",
            "166/166 [==============================] - ETA: 0s - loss: 0.5391 - acc: 0.8428\n",
            "Epoch 12: val_acc did not improve from 0.83146\n",
            "166/166 [==============================] - 22s 131ms/step - loss: 0.5391 - acc: 0.8428 - val_loss: 0.7645 - val_acc: 0.7753\n",
            "Epoch 13/50\n",
            "166/166 [==============================] - ETA: 0s - loss: 0.5171 - acc: 0.8319\n",
            "Epoch 13: val_acc did not improve from 0.83146\n",
            "166/166 [==============================] - 20s 122ms/step - loss: 0.5171 - acc: 0.8319 - val_loss: 0.6878 - val_acc: 0.7865\n",
            "Epoch 14/50\n",
            "166/166 [==============================] - ETA: 0s - loss: 0.5112 - acc: 0.8295\n",
            "Epoch 14: val_acc did not improve from 0.83146\n",
            "166/166 [==============================] - 20s 122ms/step - loss: 0.5112 - acc: 0.8295 - val_loss: 0.8041 - val_acc: 0.7865\n",
            "Epoch 15/50\n",
            "166/166 [==============================] - ETA: 0s - loss: 0.4941 - acc: 0.8428\n",
            "Epoch 15: val_acc did not improve from 0.83146\n",
            "166/166 [==============================] - 20s 121ms/step - loss: 0.4941 - acc: 0.8428 - val_loss: 1.2813 - val_acc: 0.7303\n",
            "Epoch 16/50\n",
            "166/166 [==============================] - ETA: 0s - loss: 0.5060 - acc: 0.8537\n",
            "Epoch 16: val_acc did not improve from 0.83146\n",
            "166/166 [==============================] - 21s 128ms/step - loss: 0.5060 - acc: 0.8537 - val_loss: 0.6851 - val_acc: 0.7865\n",
            "Epoch 17/50\n",
            "166/166 [==============================] - ETA: 0s - loss: 0.5373 - acc: 0.8259\n",
            "Epoch 17: val_acc did not improve from 0.83146\n",
            "166/166 [==============================] - 23s 134ms/step - loss: 0.5373 - acc: 0.8259 - val_loss: 0.7727 - val_acc: 0.7753\n",
            "Epoch 18/50\n",
            "166/166 [==============================] - ETA: 0s - loss: 0.4929 - acc: 0.8525\n",
            "Epoch 18: val_acc did not improve from 0.83146\n",
            "166/166 [==============================] - 20s 121ms/step - loss: 0.4929 - acc: 0.8525 - val_loss: 0.7536 - val_acc: 0.8034\n",
            "Epoch 19/50\n",
            "166/166 [==============================] - ETA: 0s - loss: 0.4459 - acc: 0.8658\n",
            "Epoch 19: val_acc did not improve from 0.83146\n",
            "166/166 [==============================] - 20s 122ms/step - loss: 0.4459 - acc: 0.8658 - val_loss: 0.7115 - val_acc: 0.8315\n",
            "Epoch 20/50\n",
            "166/166 [==============================] - ETA: 0s - loss: 0.5037 - acc: 0.8440\n",
            "Epoch 20: val_acc did not improve from 0.83146\n",
            "166/166 [==============================] - 23s 139ms/step - loss: 0.5037 - acc: 0.8440 - val_loss: 0.7797 - val_acc: 0.7753\n",
            "Epoch 21/50\n",
            "166/166 [==============================] - ETA: 0s - loss: 0.4104 - acc: 0.8706\n",
            "Epoch 21: val_acc did not improve from 0.83146\n",
            "166/166 [==============================] - 21s 125ms/step - loss: 0.4104 - acc: 0.8706 - val_loss: 0.6275 - val_acc: 0.8202\n",
            "Epoch 22/50\n",
            "166/166 [==============================] - ETA: 0s - loss: 0.4419 - acc: 0.8573\n",
            "Epoch 22: val_acc did not improve from 0.83146\n",
            "166/166 [==============================] - 21s 127ms/step - loss: 0.4419 - acc: 0.8573 - val_loss: 0.6602 - val_acc: 0.8202\n",
            "Epoch 23/50\n",
            "166/166 [==============================] - ETA: 0s - loss: 0.4078 - acc: 0.8634\n",
            "Epoch 23: val_acc did not improve from 0.83146\n",
            "166/166 [==============================] - 20s 123ms/step - loss: 0.4078 - acc: 0.8634 - val_loss: 0.7614 - val_acc: 0.7865\n",
            "Epoch 24/50\n",
            "166/166 [==============================] - ETA: 0s - loss: 0.4606 - acc: 0.8646\n",
            "Epoch 24: val_acc did not improve from 0.83146\n",
            "166/166 [==============================] - 20s 121ms/step - loss: 0.4606 - acc: 0.8646 - val_loss: 0.9618 - val_acc: 0.7809\n",
            "Epoch 25/50\n",
            "166/166 [==============================] - ETA: 0s - loss: 0.4436 - acc: 0.8670\n",
            "Epoch 25: val_acc improved from 0.83146 to 0.83708, saving model to vgg_16.hdf5\n",
            "166/166 [==============================] - 21s 123ms/step - loss: 0.4436 - acc: 0.8670 - val_loss: 0.6277 - val_acc: 0.8371\n",
            "Epoch 26/50\n",
            "166/166 [==============================] - ETA: 0s - loss: 0.3521 - acc: 0.8851\n",
            "Epoch 26: val_acc did not improve from 0.83708\n",
            "166/166 [==============================] - 20s 121ms/step - loss: 0.3521 - acc: 0.8851 - val_loss: 0.6680 - val_acc: 0.8258\n",
            "Epoch 27/50\n",
            "166/166 [==============================] - ETA: 0s - loss: 0.3850 - acc: 0.8779\n",
            "Epoch 27: val_acc did not improve from 0.83708\n",
            "166/166 [==============================] - 20s 121ms/step - loss: 0.3850 - acc: 0.8779 - val_loss: 0.5829 - val_acc: 0.8315\n",
            "Epoch 28/50\n",
            "166/166 [==============================] - ETA: 0s - loss: 0.4474 - acc: 0.8513\n",
            "Epoch 28: val_acc did not improve from 0.83708\n",
            "166/166 [==============================] - 20s 120ms/step - loss: 0.4474 - acc: 0.8513 - val_loss: 0.6420 - val_acc: 0.8315\n",
            "Epoch 29/50\n",
            "166/166 [==============================] - ETA: 0s - loss: 0.4055 - acc: 0.8658\n",
            "Epoch 29: val_acc did not improve from 0.83708\n",
            "166/166 [==============================] - 26s 156ms/step - loss: 0.4055 - acc: 0.8658 - val_loss: 0.7221 - val_acc: 0.8315\n",
            "Epoch 30/50\n",
            "166/166 [==============================] - ETA: 0s - loss: 0.4061 - acc: 0.8706\n",
            "Epoch 30: val_acc did not improve from 0.83708\n",
            "166/166 [==============================] - 29s 174ms/step - loss: 0.4061 - acc: 0.8706 - val_loss: 0.6620 - val_acc: 0.8202\n",
            "Epoch 31/50\n",
            "166/166 [==============================] - ETA: 0s - loss: 0.3527 - acc: 0.8863\n",
            "Epoch 31: val_acc did not improve from 0.83708\n",
            "166/166 [==============================] - 22s 135ms/step - loss: 0.3527 - acc: 0.8863 - val_loss: 0.6511 - val_acc: 0.8202\n"
          ]
        }
      ],
      "source": [
        "# Reference: https://medium.com/analytics-vidhya/cnn-transfer-learning-with-vgg16-using-keras-b0226c0805bd\n",
        "# Reference: https://www.tensorflow.org/api_docs/python/tf/keras/callbacks/EarlyStopping\n",
        "# Reference: https://towardsdatascience.com/batch-normalization-in-neural-networks-code-d7c9b88da9f5\n",
        "# Reference: https://www.learndatasci.com/tutorials/hands-on-transfer-learning-keras/\n",
        "\n",
        "vgg16_model = VGG16(weights='imagenet', include_top=False)\n",
        "for layers in vgg16_model.layers:\n",
        "  layers.trainable=False\n",
        "last_output = vgg16_model.layers[-1].output\n",
        "vgg_x = tf.keras.layers.GlobalAveragePooling2D()(last_output)\n",
        "vgg_x = tf.keras.layers.Dense(1024, activation='relu')(vgg_x)\n",
        "vgg_x = tf.keras.layers.BatchNormalization()(vgg_x)\n",
        "vgg_x = tf.keras.layers.Dropout(0.2)(vgg_x)\n",
        "vgg_x = tf.keras.layers.Dense(20, activation = 'softmax')(vgg_x)\n",
        "\n",
        "vgg16_final_model = Model(vgg16_model.input, vgg_x)\n",
        "vgg16_final_model.compile(loss = 'categorical_crossentropy', optimizer= 'adam', metrics=['acc'])\n",
        "\n",
        "# VGG16\n",
        "number_of_epochs = 50\n",
        "vgg16_filepath = 'vgg_16.hdf5'\n",
        "vgg_checkpoint = tf.keras.callbacks.ModelCheckpoint(vgg16_filepath, monitor='val_acc', verbose=1, save_best_only=True, mode='max')\n",
        "vgg_early_stopping = tf.keras.callbacks.EarlyStopping(monitor='loss', patience=5)\n",
        "vgg16_history = vgg16_final_model.fit(train_ds, epochs = number_of_epochs ,validation_data = validation_ds,callbacks=[vgg_checkpoint,vgg_early_stopping],verbose=1)\n"
      ]
    },
    {
      "cell_type": "code",
      "source": [
        "# Reference: https://stackoverflow.com/questions/36952763/how-to-return-history-of-validation-loss-in-keras\n",
        "train_loss = vgg16_history.history['loss']\n",
        "val_loss = vgg16_history.history['val_loss']\n",
        "epochs = range(len(train_loss))\n",
        "\n",
        "x = np.array(epochs)\n",
        "y = np.array(train_loss)\n",
        "plt.plot(x, y, 'r-', label = 'Training')\n",
        "\n",
        "x1 = np.array(epochs)\n",
        "y1 = np.array(val_loss)\n",
        "\n",
        "plt.plot(x1, y1, 'g-', label = 'Validation')\n",
        "plt.title('VGG16 model - Training and Validation Loss vs Epochs')\n",
        "plt.legend(loc = 'upper right', fontsize = 9)\n",
        "plt.xlabel('Epochs')\n",
        "plt.ylabel('Loss')\n",
        "plt.show()"
      ],
      "metadata": {
        "colab": {
          "base_uri": "https://localhost:8080/",
          "height": 295
        },
        "id": "J6t4IwGdCX58",
        "outputId": "3ee0f0f5-d553-4675-d1bc-7501513d3e51"
      },
      "execution_count": 25,
      "outputs": [
        {
          "output_type": "display_data",
          "data": {
            "text/plain": [
              "<Figure size 432x288 with 1 Axes>"
            ],
            "image/png": "[encoded data removed]"
          },
          "metadata": {
            "needs_background": "light"
          }
        }
      ]
    },
    {
      "cell_type": "code",
      "source": [
        "train_acc = vgg16_history.history['acc']\n",
        "val_acc = vgg16_history.history['val_acc']\n",
        "train_error = [1-i for i in train_acc]\n",
        "val_error = [1-i for i in val_acc]\n",
        "epochs = range(len(train_loss))\n",
        "\n",
        "x = np.array(epochs)\n",
        "y = np.array(train_error)\n",
        "plt.plot(x, y, 'r-', label = 'Training')\n",
        "\n",
        "x1 = np.array(epochs)\n",
        "y1 = np.array(val_error)\n",
        "\n",
        "plt.plot(x1, y1, 'g-', label = 'Validation')\n",
        "plt.title('VGG16 model - Training and Validation Error vs Epochs')\n",
        "plt.legend(loc = 'upper right', fontsize = 9)\n",
        "plt.xlabel('Epochs')\n",
        "plt.ylabel('Error')\n",
        "plt.show()"
      ],
      "metadata": {
        "colab": {
          "base_uri": "https://localhost:8080/",
          "height": 295
        },
        "id": "BLuIZqXR5MzI",
        "outputId": "9179b454-9c40-4242-c2d0-dbac163ba515"
      },
      "execution_count": 26,
      "outputs": [
        {
          "output_type": "display_data",
          "data": {
            "text/plain": [
              "<Figure size 432x288 with 1 Axes>"
            ],
            "image/png": "[encoded data removed]"
          },
          "metadata": {
            "needs_background": "light"
          }
        }
      ]
    },
    {
      "cell_type": "code",
      "source": [
        "vgg16_final_model.load_weights('/content/vgg_16.hdf5') \n",
        "pred = vgg16_final_model.predict(test_ds)\n",
        "y_pred = pred.argmax(axis=-1)\n",
        "y_test = test_ds.classes"
      ],
      "metadata": {
        "colab": {
          "base_uri": "https://localhost:8080/"
        },
        "id": "qpMrkOj5wl5e",
        "outputId": "d152dff6-0e9c-4952-a584-05db457f87e3"
      },
      "execution_count": 15,
      "outputs": [
        {
          "output_type": "stream",
          "name": "stdout",
          "text": [
            "35/35 [==============================] - 2s 58ms/step\n"
          ]
        }
      ]
    },
    {
      "cell_type": "code",
      "source": [
        "# Reference: https://stackoverflow.com/questions/47706099/how-are-the-outputs-of-precision-recall-fscore-support-in-sklearn-ordered\n",
        "\n",
        "from sklearn.metrics import precision_recall_fscore_support\n",
        "\n",
        "accuracy = sum(y_test == y_pred) / len(y_test)\n",
        "print(\"Accuracy: \", accuracy)\n",
        "\n",
        "precision, recall, f1_score, support = precision_recall_fscore_support(y_test, y_pred, average=None)\n",
        "\n",
        "for i in range(len(precision)):\n",
        "    print(\"Class :\", i)\n",
        "    print(\" * Precision: \", precision[i])\n",
        "    print(\" * Recall: \", recall[i])\n",
        "    print(\" * F1-score: \", f1_score[i])\n",
        "    "
      ],
      "metadata": {
        "colab": {
          "base_uri": "https://localhost:8080/"
        },
        "id": "-L-0zOFhH8iD",
        "outputId": "4a70b585-af80-42d0-b5cf-cb51cd1ec121"
      },
      "execution_count": 17,
      "outputs": [
        {
          "output_type": "stream",
          "name": "stdout",
          "text": [
            "Accuracy:  0.8070175438596491\n",
            "Class : 0\n",
            " * Precision:  0.8333333333333334\n",
            " * Recall:  0.8333333333333334\n",
            " * F1-score:  0.8333333333333334\n",
            "Class : 1\n",
            " * Precision:  0.7272727272727273\n",
            " * Recall:  0.8888888888888888\n",
            " * F1-score:  0.7999999999999999\n",
            "Class : 2\n",
            " * Precision:  0.875\n",
            " * Recall:  0.875\n",
            " * F1-score:  0.875\n",
            "Class : 3\n",
            " * Precision:  1.0\n",
            " * Recall:  0.75\n",
            " * F1-score:  0.8571428571428571\n",
            "Class : 4\n",
            " * Precision:  0.6666666666666666\n",
            " * Recall:  0.6666666666666666\n",
            " * F1-score:  0.6666666666666666\n",
            "Class : 5\n",
            " * Precision:  1.0\n",
            " * Recall:  0.6666666666666666\n",
            " * F1-score:  0.8\n",
            "Class : 6\n",
            " * Precision:  1.0\n",
            " * Recall:  0.8888888888888888\n",
            " * F1-score:  0.9411764705882353\n",
            "Class : 7\n",
            " * Precision:  0.7\n",
            " * Recall:  0.7777777777777778\n",
            " * F1-score:  0.7368421052631577\n",
            "Class : 8\n",
            " * Precision:  0.7777777777777778\n",
            " * Recall:  0.7777777777777778\n",
            " * F1-score:  0.7777777777777778\n",
            "Class : 9\n",
            " * Precision:  1.0\n",
            " * Recall:  0.8888888888888888\n",
            " * F1-score:  0.9411764705882353\n",
            "Class : 10\n",
            " * Precision:  0.8888888888888888\n",
            " * Recall:  0.8888888888888888\n",
            " * F1-score:  0.8888888888888888\n",
            "Class : 11\n",
            " * Precision:  1.0\n",
            " * Recall:  1.0\n",
            " * F1-score:  1.0\n",
            "Class : 12\n",
            " * Precision:  0.7777777777777778\n",
            " * Recall:  0.7777777777777778\n",
            " * F1-score:  0.7777777777777778\n",
            "Class : 13\n",
            " * Precision:  0.6\n",
            " * Recall:  0.6666666666666666\n",
            " * F1-score:  0.631578947368421\n",
            "Class : 14\n",
            " * Precision:  0.8571428571428571\n",
            " * Recall:  0.6666666666666666\n",
            " * F1-score:  0.75\n",
            "Class : 15\n",
            " * Precision:  0.5714285714285714\n",
            " * Recall:  0.5\n",
            " * F1-score:  0.5333333333333333\n",
            "Class : 16\n",
            " * Precision:  0.7272727272727273\n",
            " * Recall:  1.0\n",
            " * F1-score:  0.8421052631578948\n",
            "Class : 17\n",
            " * Precision:  0.6363636363636364\n",
            " * Recall:  0.875\n",
            " * F1-score:  0.7368421052631579\n",
            "Class : 18\n",
            " * Precision:  0.7777777777777778\n",
            " * Recall:  0.7777777777777778\n",
            " * F1-score:  0.7777777777777778\n",
            "Class : 19\n",
            " * Precision:  1.0\n",
            " * Recall:  1.0\n",
            " * F1-score:  1.0\n"
          ]
        }
      ]
    },
    {
      "cell_type": "markdown",
      "source": [
        "EfficientNetB0 model"
      ],
      "metadata": {
        "id": "WWQSoOXn0aT-"
      }
    },
    {
      "cell_type": "code",
      "source": [
        "# Reference: https://keras.io/api/applications/efficientnet/\n",
        "train_datagen = ImageDataGenerator(\n",
        "    rotation_range = 20,\n",
        "    width_shift_range = 0.2,\n",
        "    height_shift_range = 0.2,\n",
        "    shear_range = 0.2,\n",
        "    zoom_range = 0.2,\n",
        "    fill_mode = 'nearest',\n",
        "    horizontal_flip = True,\n",
        "    vertical_flip = True\n",
        ")\n",
        "val_datagen = ImageDataGenerator()\n",
        "test_datagen = ImageDataGenerator()\n",
        "train_ds = train_datagen.flow_from_directory(\n",
        "  \"/content/drive/MyDrive/Data/train\", \n",
        "  seed=1,\n",
        "  target_size=(256, 256), #adjust to your needs\n",
        "  batch_size=5,#adjust to your needs\n",
        "  class_mode='categorical',\n",
        "  subset='training'\n",
        ")\n",
        "\n",
        "validation_ds = val_datagen.flow_from_directory(\n",
        "  \"/content/drive/MyDrive/Data/val\",\n",
        "  target_size=(256,256),\n",
        "  batch_size=5,\n",
        "  class_mode='categorical'\n",
        ")\n",
        "\n",
        "test_ds = test_datagen.flow_from_directory(\n",
        "    \"/content/drive/MyDrive/Data/test\",\n",
        "  target_size=(256,256),\n",
        "  batch_size=5,\n",
        "  class_mode='categorical',\n",
        "  shuffle=False\n",
        ")"
      ],
      "metadata": {
        "colab": {
          "base_uri": "https://localhost:8080/"
        },
        "id": "a5pAo4-XRpIY",
        "outputId": "95fec4dc-03d8-4f7a-d6bc-bd9658ab2002"
      },
      "execution_count": 19,
      "outputs": [
        {
          "output_type": "stream",
          "name": "stdout",
          "text": [
            "Found 827 images belonging to 20 classes.\n",
            "Found 178 images belonging to 20 classes.\n",
            "Found 171 images belonging to 20 classes.\n"
          ]
        }
      ]
    },
    {
      "cell_type": "code",
      "execution_count": 20,
      "metadata": {
        "colab": {
          "base_uri": "https://localhost:8080/"
        },
        "id": "MlvW0wGAYvkX",
        "outputId": "a114fc2d-964f-4aca-ea98-7ec85c2cfee2"
      },
      "outputs": [
        {
          "output_type": "stream",
          "name": "stdout",
          "text": [
            "Downloading data from https://storage.googleapis.com/keras-applications/efficientnetb0_notop.h5\n",
            "16705208/16705208 [==============================] - 1s 0us/step\n",
            "Epoch 1/50\n",
            "166/166 [==============================] - ETA: 0s - loss: 1.1635 - acc: 0.6385\n",
            "Epoch 1: val_acc improved from -inf to 0.80337, saving model to efnet.hdf5\n",
            "166/166 [==============================] - 27s 128ms/step - loss: 1.1635 - acc: 0.6385 - val_loss: 0.5994 - val_acc: 0.8034\n",
            "Epoch 2/50\n",
            "166/166 [==============================] - ETA: 0s - loss: 0.4196 - acc: 0.8694\n",
            "Epoch 2: val_acc improved from 0.80337 to 0.88764, saving model to efnet.hdf5\n",
            "166/166 [==============================] - 25s 153ms/step - loss: 0.4196 - acc: 0.8694 - val_loss: 0.3760 - val_acc: 0.8876\n",
            "Epoch 3/50\n",
            "166/166 [==============================] - ETA: 0s - loss: 0.2631 - acc: 0.9093\n",
            "Epoch 3: val_acc did not improve from 0.88764\n",
            "166/166 [==============================] - 20s 122ms/step - loss: 0.2631 - acc: 0.9093 - val_loss: 0.2999 - val_acc: 0.8820\n",
            "Epoch 4/50\n",
            "166/166 [==============================] - ETA: 0s - loss: 0.2480 - acc: 0.9178\n",
            "Epoch 4: val_acc did not improve from 0.88764\n",
            "166/166 [==============================] - 19s 114ms/step - loss: 0.2480 - acc: 0.9178 - val_loss: 0.4374 - val_acc: 0.8652\n",
            "Epoch 5/50\n",
            "166/166 [==============================] - ETA: 0s - loss: 0.1929 - acc: 0.9347\n",
            "Epoch 5: val_acc did not improve from 0.88764\n",
            "166/166 [==============================] - 20s 121ms/step - loss: 0.1929 - acc: 0.9347 - val_loss: 0.4239 - val_acc: 0.8483\n",
            "Epoch 6/50\n",
            "166/166 [==============================] - ETA: 0s - loss: 0.1729 - acc: 0.9480\n",
            "Epoch 6: val_acc did not improve from 0.88764\n",
            "166/166 [==============================] - 22s 132ms/step - loss: 0.1729 - acc: 0.9480 - val_loss: 0.3416 - val_acc: 0.8764\n",
            "Epoch 7/50\n",
            "166/166 [==============================] - ETA: 0s - loss: 0.1587 - acc: 0.9577\n",
            "Epoch 7: val_acc did not improve from 0.88764\n",
            "166/166 [==============================] - 19s 114ms/step - loss: 0.1587 - acc: 0.9577 - val_loss: 0.6625 - val_acc: 0.8427\n",
            "Epoch 8/50\n",
            "166/166 [==============================] - ETA: 0s - loss: 0.1256 - acc: 0.9625\n",
            "Epoch 8: val_acc did not improve from 0.88764\n",
            "166/166 [==============================] - 19s 113ms/step - loss: 0.1256 - acc: 0.9625 - val_loss: 0.4814 - val_acc: 0.8876\n",
            "Epoch 9/50\n",
            "166/166 [==============================] - ETA: 0s - loss: 0.0952 - acc: 0.9722\n",
            "Epoch 9: val_acc improved from 0.88764 to 0.89888, saving model to efnet.hdf5\n",
            "166/166 [==============================] - 19s 115ms/step - loss: 0.0952 - acc: 0.9722 - val_loss: 0.4244 - val_acc: 0.8989\n",
            "Epoch 10/50\n",
            "166/166 [==============================] - ETA: 0s - loss: 0.1316 - acc: 0.9589\n",
            "Epoch 10: val_acc did not improve from 0.89888\n",
            "166/166 [==============================] - 19s 113ms/step - loss: 0.1316 - acc: 0.9589 - val_loss: 0.4715 - val_acc: 0.8933\n",
            "Epoch 11/50\n",
            "166/166 [==============================] - ETA: 0s - loss: 0.1276 - acc: 0.9565\n",
            "Epoch 11: val_acc did not improve from 0.89888\n",
            "166/166 [==============================] - 21s 125ms/step - loss: 0.1276 - acc: 0.9565 - val_loss: 0.6530 - val_acc: 0.8820\n",
            "Epoch 12/50\n",
            "166/166 [==============================] - ETA: 0s - loss: 0.1187 - acc: 0.9637\n",
            "Epoch 12: val_acc did not improve from 0.89888\n",
            "166/166 [==============================] - 20s 123ms/step - loss: 0.1187 - acc: 0.9637 - val_loss: 0.5319 - val_acc: 0.8596\n",
            "Epoch 13/50\n",
            "166/166 [==============================] - ETA: 0s - loss: 0.2174 - acc: 0.9432\n",
            "Epoch 13: val_acc did not improve from 0.89888\n",
            "166/166 [==============================] - 22s 132ms/step - loss: 0.2174 - acc: 0.9432 - val_loss: 0.4713 - val_acc: 0.8652\n",
            "Epoch 14/50\n",
            "166/166 [==============================] - ETA: 0s - loss: 0.1188 - acc: 0.9661\n",
            "Epoch 14: val_acc did not improve from 0.89888\n",
            "166/166 [==============================] - 22s 133ms/step - loss: 0.1188 - acc: 0.9661 - val_loss: 0.4947 - val_acc: 0.8652\n"
          ]
        }
      ],
      "source": [
        "# Reference: https://www.kaggle.com/code/lys620/efficientnet-with-keras\n",
        "\n",
        "efmodel_model = EfficientNetB0(weights='imagenet', include_top=False)\n",
        "for layers in efmodel_model.layers:\n",
        "            layers.trainable=False\n",
        "last_output = efmodel_model.layers[-1].output\n",
        "efnet_x = tf.keras.layers.GlobalAveragePooling2D()(last_output)\n",
        "efnet_x = tf.keras.layers.Dense(1024, activation='relu')(efnet_x)\n",
        "efnet_x = tf.keras.layers.Dense(20, activation = 'softmax')(efnet_x)\n",
        "efnet_final_model = Model(efmodel_model.input, efnet_x)\n",
        "efnet_final_model.compile(loss = 'categorical_crossentropy', optimizer= 'adam', metrics=['acc'])\n",
        "\n",
        "# EfficientNetB0\n",
        "number_of_epochs = 50\n",
        "efnet_filepath = 'efnet.hdf5'\n",
        "efnet_checkpoint = tf.keras.callbacks.ModelCheckpoint(efnet_filepath, monitor='val_acc', verbose=1, save_best_only=True, mode='max')\n",
        "efnet_early_stopping = tf.keras.callbacks.EarlyStopping(monitor='loss', patience=5)\n",
        "efnet_history = efnet_final_model.fit(train_ds, epochs = number_of_epochs ,validation_data = validation_ds,callbacks=[efnet_checkpoint,efnet_early_stopping],verbose=1)"
      ]
    },
    {
      "cell_type": "code",
      "execution_count": 27,
      "metadata": {
        "id": "D29b3Q5oaIuc",
        "colab": {
          "base_uri": "https://localhost:8080/",
          "height": 295
        },
        "outputId": "6c0b97ce-4354-406f-cc0c-6618b6985aa6"
      },
      "outputs": [
        {
          "output_type": "display_data",
          "data": {
            "text/plain": [
              "<Figure size 432x288 with 1 Axes>"
            ],
            "image/png": "[encoded data removed]"
          },
          "metadata": {
            "needs_background": "light"
          }
        }
      ],
      "source": [
        "train_loss = efnet_history.history['loss']\n",
        "val_loss = efnet_history.history['val_loss']\n",
        "epochs = range(len(train_loss))\n",
        "\n",
        "x = np.array(epochs)\n",
        "y = np.array(train_loss)\n",
        "plt.plot(x, y, 'r-', label = 'Training')\n",
        "\n",
        "x1 = np.array(epochs)\n",
        "y1 = np.array(val_loss)\n",
        "\n",
        "plt.plot(x1, y1, 'g-', label = 'Validation')\n",
        "plt.title('EfficientNetB0 - Training and Validation Loss vs Epochs')\n",
        "plt.legend(loc = 'upper right', fontsize = 9)\n",
        "plt.xlabel('Epochs')\n",
        "plt.ylabel('Loss')\n",
        "plt.show()"
      ]
    },
    {
      "cell_type": "code",
      "source": [
        "train_acc = efnet_history.history['acc']\n",
        "val_acc = efnet_history.history['val_acc']\n",
        "train_error = [1-i for i in train_acc]\n",
        "val_error = [1-i for i in val_acc]\n",
        "epochs = range(len(train_loss))\n",
        "\n",
        "x = np.array(epochs)\n",
        "y = np.array(train_error)\n",
        "plt.plot(x, y, 'r-', label = 'Training')\n",
        "\n",
        "x1 = np.array(epochs)\n",
        "y1 = np.array(val_error)\n",
        "\n",
        "plt.plot(x1, y1, 'g-', label = 'Validation')\n",
        "plt.title('EfficientNetB0 - Training and Validation Error vs Epochs')\n",
        "plt.legend(loc = 'upper right', fontsize = 9)\n",
        "plt.xlabel('Epochs')\n",
        "plt.ylabel('Error')\n",
        "plt.show()"
      ],
      "metadata": {
        "colab": {
          "base_uri": "https://localhost:8080/",
          "height": 295
        },
        "id": "skKObEPx-Mvu",
        "outputId": "eac8acec-9f9b-483b-efd8-79b9d95096a3"
      },
      "execution_count": 28,
      "outputs": [
        {
          "output_type": "display_data",
          "data": {
            "text/plain": [
              "<Figure size 432x288 with 1 Axes>"
            ],
            "image/png": "[encoded data removed]"
          },
          "metadata": {
            "needs_background": "light"
          }
        }
      ]
    },
    {
      "cell_type": "code",
      "source": [
        "efnet_final_model.load_weights('/content/efnet.hdf5') \n",
        "pred = efnet_final_model.predict(test_ds)\n",
        "y_pred = pred.argmax(axis=-1)\n",
        "y_test = test_ds.classes"
      ],
      "metadata": {
        "colab": {
          "base_uri": "https://localhost:8080/"
        },
        "id": "C8SXnnNDSHjx",
        "outputId": "f00d8896-c75b-40df-da73-619c29a5c535"
      },
      "execution_count": 23,
      "outputs": [
        {
          "output_type": "stream",
          "name": "stdout",
          "text": [
            "35/35 [==============================] - 3s 48ms/step\n"
          ]
        }
      ]
    },
    {
      "cell_type": "code",
      "source": [
        "from sklearn.metrics import precision_recall_fscore_support\n",
        "\n",
        "accuracy = sum(y_test == y_pred) / len(y_test)\n",
        "print(\"Accuracy: \", accuracy)\n",
        "\n",
        "precision, recall, f1_score, support = precision_recall_fscore_support(y_test, y_pred, average=None)\n",
        "\n",
        "for i in range(len(precision)):\n",
        "    print(\"Class :\", i)\n",
        "    print(\" * Precision: \", precision[i])\n",
        "    print(\" * Recall: \", recall[i])\n",
        "    print(\" * F1-score: \", f1_score[i])"
      ],
      "metadata": {
        "id": "ze-5kfWrMGjX",
        "colab": {
          "base_uri": "https://localhost:8080/"
        },
        "outputId": "6ff1f707-cc83-45f0-e3e4-bf5e45680085"
      },
      "execution_count": 24,
      "outputs": [
        {
          "output_type": "stream",
          "name": "stdout",
          "text": [
            "Accuracy:  0.9122807017543859\n",
            "Class : 0\n",
            " * Precision:  1.0\n",
            " * Recall:  1.0\n",
            " * F1-score:  1.0\n",
            "Class : 1\n",
            " * Precision:  1.0\n",
            " * Recall:  0.8888888888888888\n",
            " * F1-score:  0.9411764705882353\n",
            "Class : 2\n",
            " * Precision:  1.0\n",
            " * Recall:  1.0\n",
            " * F1-score:  1.0\n",
            "Class : 3\n",
            " * Precision:  1.0\n",
            " * Recall:  1.0\n",
            " * F1-score:  1.0\n",
            "Class : 4\n",
            " * Precision:  0.875\n",
            " * Recall:  0.7777777777777778\n",
            " * F1-score:  0.823529411764706\n",
            "Class : 5\n",
            " * Precision:  1.0\n",
            " * Recall:  0.8888888888888888\n",
            " * F1-score:  0.9411764705882353\n",
            "Class : 6\n",
            " * Precision:  1.0\n",
            " * Recall:  1.0\n",
            " * F1-score:  1.0\n",
            "Class : 7\n",
            " * Precision:  1.0\n",
            " * Recall:  0.6666666666666666\n",
            " * F1-score:  0.8\n",
            "Class : 8\n",
            " * Precision:  0.8181818181818182\n",
            " * Recall:  1.0\n",
            " * F1-score:  0.9\n",
            "Class : 9\n",
            " * Precision:  1.0\n",
            " * Recall:  1.0\n",
            " * F1-score:  1.0\n",
            "Class : 10\n",
            " * Precision:  1.0\n",
            " * Recall:  1.0\n",
            " * F1-score:  1.0\n",
            "Class : 11\n",
            " * Precision:  1.0\n",
            " * Recall:  1.0\n",
            " * F1-score:  1.0\n",
            "Class : 12\n",
            " * Precision:  0.9\n",
            " * Recall:  1.0\n",
            " * F1-score:  0.9473684210526316\n",
            "Class : 13\n",
            " * Precision:  0.875\n",
            " * Recall:  0.7777777777777778\n",
            " * F1-score:  0.823529411764706\n",
            "Class : 14\n",
            " * Precision:  1.0\n",
            " * Recall:  0.7777777777777778\n",
            " * F1-score:  0.8750000000000001\n",
            "Class : 15\n",
            " * Precision:  0.5\n",
            " * Recall:  0.875\n",
            " * F1-score:  0.6363636363636364\n",
            "Class : 16\n",
            " * Precision:  1.0\n",
            " * Recall:  1.0\n",
            " * F1-score:  1.0\n",
            "Class : 17\n",
            " * Precision:  0.875\n",
            " * Recall:  0.875\n",
            " * F1-score:  0.875\n",
            "Class : 18\n",
            " * Precision:  0.8181818181818182\n",
            " * Recall:  1.0\n",
            " * F1-score:  0.9\n",
            "Class : 19\n",
            " * Precision:  1.0\n",
            " * Recall:  0.75\n",
            " * F1-score:  0.8571428571428571\n"
          ]
        }
      ]
    },
    {
      "cell_type": "code",
      "source": [],
      "metadata": {
        "id": "EkqJahPTSAQq"
      },
      "execution_count": null,
      "outputs": []
    }
  ],
  "metadata": {
    "accelerator": "GPU",
    "colab": {
      "provenance": []
    },
    "gpuClass": "standard",
    "kernelspec": {
      "display_name": "Python 3",
      "name": "python3"
    },
    "language_info": {
      "name": "python"
    }
  },
  "nbformat": 4,
  "nbformat_minor": 0
}