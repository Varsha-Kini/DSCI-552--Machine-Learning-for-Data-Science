{
  "cells": [
    {
      "cell_type": "markdown",
      "metadata": {
        "id": "Pguzd-ETWzOs"
      },
      "source": [
        "## DSCI - 552 HOMEWORK 7"
      ]
    },
    {
      "cell_type": "markdown",
      "metadata": {
        "id": "MJv8kBnPW4Nw"
      },
      "source": [
        "Name: Varsha Kini$\\quad$Github Username: Varsha-Kini$\\quad$USC ID: 4013488464  "
      ]
    },
    {
      "cell_type": "markdown",
      "source": [
        "Using 2 late days for this assignment"
      ],
      "metadata": {
        "id": "N3VtbTOc8mid"
      }
    },
    {
      "cell_type": "markdown",
      "metadata": {
        "id": "AS7VD03hz83S"
      },
      "source": [
        "1. (a) Download the Anuran Calls (MFCCs) Data Set. Choose 70% of the data randomly as the training set. "
      ]
    },
    {
      "cell_type": "code",
      "execution_count": 1,
      "metadata": {
        "id": "bcr-zsRZYZ3W"
      },
      "outputs": [],
      "source": [
        "import warnings\n",
        "warnings.filterwarnings(\"ignore\")"
      ]
    },
    {
      "cell_type": "code",
      "execution_count": 44,
      "metadata": {
        "id": "ZXKZX_owWpX5"
      },
      "outputs": [],
      "source": [
        "import pandas as pd\n",
        "import numpy as np\n",
        "data = pd.read_csv('../Data/Anuran Calls (MFCCs)/Frogs_MFCCs.csv')"
      ]
    },
    {
      "cell_type": "code",
      "execution_count": 3,
      "metadata": {
        "id": "uzYUQnSIb-Zr"
      },
      "outputs": [],
      "source": [
        "# Reference: https://scikit-learn.org/stable/modules/generated/sklearn.model_selection.train_test_split.html\n",
        "from sklearn.model_selection import train_test_split\n",
        "dat = data.iloc[:,:22]\n",
        "labels = data.iloc[:,22:25]\n",
        "X_train, X_test, y_train, y_test = train_test_split(dat, labels, test_size=0.3, random_state=42)"
      ]
    },
    {
      "cell_type": "code",
      "execution_count": null,
      "metadata": {
        "id": "8G4Mlea7BY1A"
      },
      "outputs": [],
      "source": [
        "# X_train = X_train.reset_index()"
      ]
    },
    {
      "cell_type": "code",
      "execution_count": null,
      "metadata": {
        "id": "Pe3Z7B_DBg7j"
      },
      "outputs": [],
      "source": [
        "# X_test = X_test.reset_index()"
      ]
    },
    {
      "cell_type": "code",
      "execution_count": null,
      "metadata": {
        "id": "oG-HD9dwBjnd"
      },
      "outputs": [],
      "source": [
        "# y_train = y_train.reset_index()"
      ]
    },
    {
      "cell_type": "code",
      "execution_count": null,
      "metadata": {
        "id": "eG7UTx5GBn_P"
      },
      "outputs": [],
      "source": [
        "# y_test = y_test.reset_index()"
      ]
    },
    {
      "cell_type": "markdown",
      "metadata": {
        "id": "ibX7s7y91h0w"
      },
      "source": [
        "1. (b) i. Research exact match and hamming score/ loss methods for evaluating multi-label classification and use them in evaluating the classifiers in this problem"
      ]
    },
    {
      "cell_type": "markdown",
      "metadata": {
        "id": "KdxxiI7V3_3e"
      },
      "source": [
        "Reference: https://medium.datadriveninvestor.com/a-survey-of-evaluation-metrics-for-multilabel-classification-bb16e8cd41cd\n",
        "\n",
        "1. Exact Match Ratio (EMR)\n",
        "2. Hamming Loss\n",
        "3. Micro-averaged Recall\n",
        "4. Micro-averaged Precision\n",
        "5. Micro-averaged Accuracy\n",
        "6. Example-Based Accuracy\n",
        "7. 1/0 Loss\n",
        "8. Label Based Metrics\n",
        "\n",
        "\n",
        "\n"
      ]
    },
    {
      "cell_type": "markdown",
      "metadata": {
        "id": "opY3couR5GHy"
      },
      "source": [
        "1. (b) ii. Train a SVM for each of the labels, using Gaussian kernels and one versus all classifiers. Determine the weight of the SVM penalty and the width of the Gaussian Kernel using 10 fold cross validation. You are welcome to try to solve the problem with both standardized and raw attributes and report the results."
      ]
    },
    {
      "cell_type": "code",
      "execution_count": 4,
      "metadata": {
        "id": "pVTxCVFz_LAU"
      },
      "outputs": [],
      "source": [
        "def exact_match(predict, labels):\n",
        "  count = 0\n",
        "  for i in range(len(predict)):\n",
        "      if predict[i] == labels[i]:\n",
        "            count+=1\n",
        "  ans = count / len(predict)\n",
        "  return ans\n"
      ]
    },
    {
      "cell_type": "code",
      "execution_count": 5,
      "metadata": {
        "id": "7gKRQ0o0b_Nn"
      },
      "outputs": [],
      "source": [
        "# Reference: https://stackabuse.com/implementing-svm-and-kernel-svm-with-pythons-scikit-learn/\n",
        "# Reference: https://machinelearningmastery.com/one-vs-rest-and-one-vs-one-for-multi-class-classification/\n",
        "# Reference: https://www.mygreatlearning.com/blog/gridsearchcv/#:~:text=GridSearchCV%20tries%20all%20the%20combinations,one%20with%20the%20best%20performance.\n",
        "from sklearn.svm import SVC\n",
        "from sklearn.model_selection import GridSearchCV\n",
        "from sklearn.multiclass import OneVsRestClassifier\n",
        "from sklearn.model_selection import KFold\n",
        "\n",
        "svclassifier = SVC(kernel='rbf')\n",
        "model = OneVsRestClassifier(svclassifier)\n",
        "param_grid = {'estimator__C': np.logspace(-1,4,5),  \n",
        "              'estimator__gamma': np.linspace(0.1,2,5)}\n",
        "grid = GridSearchCV(model, param_grid, refit = True, verbose = 3,n_jobs=-1, cv=KFold(10))   "
      ]
    },
    {
      "cell_type": "code",
      "execution_count": 6,
      "metadata": {
        "id": "SK6XoZaqQLQZ"
      },
      "outputs": [],
      "source": [
        "y_train_family = y_train['Family']\n",
        "y_train_genus = y_train['Genus']\n",
        "y_train_species = y_train['Species']\n",
        "y_test_family = y_test['Family']\n",
        "y_test_genus = y_test['Genus']\n",
        "y_test_species = y_test['Species']"
      ]
    },
    {
      "cell_type": "code",
      "execution_count": 7,
      "metadata": {
        "colab": {
          "base_uri": "https://localhost:8080/"
        },
        "id": "RmjRyH5PQtJM",
        "outputId": "b5d16cc4-ce89-45b1-ea98-d7f077295648"
      },
      "outputs": [
        {
          "output_type": "stream",
          "name": "stdout",
          "text": [
            "Fitting 10 folds for each of 25 candidates, totalling 250 fits\n",
            "SVM Penalty for label Family: 31.622776601683793\n",
            "Width of the Gaussian Kernel for label Family: 2.0\n"
          ]
        }
      ],
      "source": [
        "grid_fam = grid.fit(X_train, y_train_family)\n",
        "svm_para = grid_fam.best_params_['estimator__C']\n",
        "gauss = grid_fam.best_params_['estimator__gamma']\n",
        "print('SVM Penalty for label Family:', svm_para)\n",
        "print('Width of the Gaussian Kernel for label Family:', gauss)"
      ]
    },
    {
      "cell_type": "code",
      "execution_count": 9,
      "metadata": {
        "colab": {
          "base_uri": "https://localhost:8080/"
        },
        "id": "vtCNv3hVSjkx",
        "outputId": "580c5daf-0ca9-46bf-a6aa-161e2fdcc5b5"
      },
      "outputs": [
        {
          "output_type": "stream",
          "name": "stdout",
          "text": [
            "Hamming Loss for label Family:  0.0041685965724872626\n",
            "Exact match ratio for label Family:  0.9958314034275128\n",
            "                 precision    recall  f1-score   support\n",
            "\n",
            "      Bufonidae       0.93      1.00      0.96        25\n",
            "  Dendrobatidae       0.99      0.99      0.99       162\n",
            "        Hylidae       1.00      0.99      0.99       629\n",
            "Leptodactylidae       1.00      1.00      1.00      1343\n",
            "\n",
            "       accuracy                           1.00      2159\n",
            "      macro avg       0.98      1.00      0.99      2159\n",
            "   weighted avg       1.00      1.00      1.00      2159\n",
            "\n"
          ]
        }
      ],
      "source": [
        "# Reference: https://scikit-learn.org/stable/modules/generated/sklearn.metrics.hamming_loss.html\n",
        "from sklearn.metrics import hamming_loss\n",
        "from sklearn.metrics import classification_report\n",
        "\n",
        "prediction_fam= grid_fam.predict(X_test)\n",
        "loss_fam_svm = hamming_loss(y_test_family, prediction_fam)\n",
        "print(\"Hamming Loss for label Family: \", loss_fam_svm)\n",
        "print(\"Exact match ratio for label Family: \", 1-loss_fam_svm)\n",
        "print(classification_report(prediction_fam, y_test_family))\n",
        "\n"
      ]
    },
    {
      "cell_type": "code",
      "execution_count": 10,
      "metadata": {
        "colab": {
          "base_uri": "https://localhost:8080/"
        },
        "id": "J-I6XZA7Zvoh",
        "outputId": "41e7193e-ed46-40f6-b4f3-3edde06d1e4c"
      },
      "outputs": [
        {
          "output_type": "stream",
          "name": "stdout",
          "text": [
            "Fitting 10 folds for each of 25 candidates, totalling 250 fits\n",
            "SVM Penalty for label Genus: 31.622776601683793\n",
            "Width of the Gaussian Kernel for label Genus: 2.0\n"
          ]
        }
      ],
      "source": [
        "grid_genus = grid.fit(X_train, y_train_genus)\n",
        "svm_para = grid_genus.best_params_['estimator__C']\n",
        "gauss = grid_genus.best_params_['estimator__gamma']\n",
        "print('SVM Penalty for label Genus:', svm_para)\n",
        "print('Width of the Gaussian Kernel for label Genus:', gauss)"
      ]
    },
    {
      "cell_type": "code",
      "execution_count": 11,
      "metadata": {
        "colab": {
          "base_uri": "https://localhost:8080/"
        },
        "id": "8lUmybFcq_HX",
        "outputId": "ae6a2ab8-70f3-4beb-c457-c7ac72527fc9"
      },
      "outputs": [
        {
          "output_type": "stream",
          "name": "stdout",
          "text": [
            "Hamming Loss for label Genus:  0.008800370541917554\n",
            "Exact match ratio for label Genus:  0.9911996294580825\n",
            "               precision    recall  f1-score   support\n",
            "\n",
            "    Adenomera       1.00      1.00      1.00      1252\n",
            "     Ameerega       1.00      0.99      1.00       163\n",
            "Dendropsophus       0.96      1.00      0.98        81\n",
            "    Hypsiboas       0.99      0.98      0.99       473\n",
            "Leptodactylus       0.98      0.98      0.98        96\n",
            "Osteocephalus       0.88      0.91      0.90        33\n",
            "     Rhinella       0.93      1.00      0.96        25\n",
            "       Scinax       0.97      1.00      0.99        36\n",
            "\n",
            "     accuracy                           0.99      2159\n",
            "    macro avg       0.96      0.98      0.97      2159\n",
            " weighted avg       0.99      0.99      0.99      2159\n",
            "\n"
          ]
        }
      ],
      "source": [
        "from sklearn.metrics import hamming_loss\n",
        "\n",
        "prediction_genus= grid_genus.predict(X_test)\n",
        "loss_genus_svm = hamming_loss(y_test_genus, prediction_genus)\n",
        "print(\"Hamming Loss for label Genus: \", loss_genus_svm)\n",
        "print(\"Exact match ratio for label Genus: \", 1-loss_genus_svm)\n",
        "print(classification_report(prediction_genus, y_test_genus))"
      ]
    },
    {
      "cell_type": "code",
      "execution_count": 12,
      "metadata": {
        "colab": {
          "base_uri": "https://localhost:8080/"
        },
        "id": "lZoW5sUTrl04",
        "outputId": "e13ad6b3-c8ca-4763-d97b-4e09fc0c85ab"
      },
      "outputs": [
        {
          "output_type": "stream",
          "name": "stdout",
          "text": [
            "Fitting 10 folds for each of 25 candidates, totalling 250 fits\n",
            "SVM Penalty for label Species: 31.622776601683793\n",
            "Width of the Gaussian Kernel for label Species: 1.525\n"
          ]
        }
      ],
      "source": [
        "grid_species = grid.fit(X_train, y_train_species)\n",
        "svm_para = grid_species.best_params_['estimator__C']\n",
        "gauss = grid_species.best_params_['estimator__gamma']\n",
        "print('SVM Penalty for label Species:', svm_para)\n",
        "print('Width of the Gaussian Kernel for label Species:', gauss)"
      ]
    },
    {
      "cell_type": "code",
      "execution_count": 13,
      "metadata": {
        "id": "OipmiwSr2kgI",
        "colab": {
          "base_uri": "https://localhost:8080/"
        },
        "outputId": "77c3cfae-e112-4863-e598-c36362d406b3"
      },
      "outputs": [
        {
          "output_type": "stream",
          "name": "stdout",
          "text": [
            "Hamming Loss for label Species:  0.007874015748031496\n",
            "Exact match ratio for label Species:  0.9921259842519685\n",
            "                        precision    recall  f1-score   support\n",
            "\n",
            "        AdenomeraAndre       0.98      0.99      0.99       218\n",
            "AdenomeraHylaedactylus       1.00      1.00      1.00      1034\n",
            "    Ameeregatrivittata       1.00      0.99      1.00       163\n",
            "            HylaMinuta       0.98      1.00      0.99        82\n",
            "  HypsiboasCinerascens       0.99      0.97      0.98       137\n",
            "     HypsiboasCordobae       1.00      0.99      1.00       334\n",
            "   LeptodactylusFuscus       0.99      0.99      0.99        96\n",
            " OsteocephalusOophagus       0.88      0.88      0.88        34\n",
            "     Rhinellagranulosa       0.93      1.00      0.96        25\n",
            "           ScinaxRuber       0.97      1.00      0.99        36\n",
            "\n",
            "              accuracy                           0.99      2159\n",
            "             macro avg       0.97      0.98      0.98      2159\n",
            "          weighted avg       0.99      0.99      0.99      2159\n",
            "\n"
          ]
        }
      ],
      "source": [
        "from sklearn.metrics import hamming_loss\n",
        "prediction_species= grid_species.predict(X_test)\n",
        "loss_species_svm = hamming_loss(y_test_species, prediction_species)\n",
        "print(\"Hamming Loss for label Species: \", loss_species_svm)\n",
        "print(\"Exact match ratio for label Species: \", 1-loss_species_svm)\n",
        "print(classification_report(prediction_species, y_test_species))"
      ]
    },
    {
      "cell_type": "markdown",
      "metadata": {
        "id": "p6SqrEEWO2-Q"
      },
      "source": [
        "1. (b) iii. Repeat 1 (b) ii with L1-penalized SVMs. Remember to standardize the attributes. Determine the weight of the SVM penalty using 10 fold cross validation"
      ]
    },
    {
      "cell_type": "code",
      "execution_count": 14,
      "metadata": {
        "id": "kfAbbtF33REH"
      },
      "outputs": [],
      "source": [
        "# Reference: https://scikit-learn.org/stable/modules/generated/sklearn.preprocessing.StandardScaler.html\n",
        "from sklearn.pipeline import Pipeline\n",
        "from sklearn.preprocessing import StandardScaler\n",
        "from sklearn.svm import LinearSVC\n",
        "\n",
        "penalized_SVM = Pipeline([('scale', StandardScaler()), ('SVC',LinearSVC(penalty='l1', loss=\"squared_hinge\", dual=False, tol=1e-3))])\n",
        "param_grid = {'SVC__C':np.arange(0.01,100,10)}\n",
        "grid = GridSearchCV(penalized_SVM, param_grid, cv=KFold(10))"
      ]
    },
    {
      "cell_type": "code",
      "execution_count": 15,
      "metadata": {
        "id": "tMYq7GYCVSP-",
        "colab": {
          "base_uri": "https://localhost:8080/"
        },
        "outputId": "74b5bfdd-2dae-4c7b-bcb5-b9d0a4d740b7"
      },
      "outputs": [
        {
          "output_type": "stream",
          "name": "stdout",
          "text": [
            "SVM Penalty for label Family: 10.01\n"
          ]
        }
      ],
      "source": [
        "grid_fam = grid.fit(X_train, y_train_family)\n",
        "svm_para = grid_fam.best_params_['SVC__C']\n",
        "print('SVM Penalty for label Family:', svm_para)"
      ]
    },
    {
      "cell_type": "code",
      "execution_count": 16,
      "metadata": {
        "id": "njup-pIhXknr",
        "colab": {
          "base_uri": "https://localhost:8080/"
        },
        "outputId": "88d607f5-d9ff-4e1d-d23b-0849f4ee1fbe"
      },
      "outputs": [
        {
          "output_type": "stream",
          "name": "stdout",
          "text": [
            "Hamming Loss for label Family:  0.07179249652616952\n",
            "Exact match ratio for label Family:  0.9282075034738305\n",
            "                 precision    recall  f1-score   support\n",
            "\n",
            "      Bufonidae       0.00      0.00      0.00         0\n",
            "  Dendrobatidae       0.90      0.86      0.88       169\n",
            "        Hylidae       0.90      0.89      0.90       633\n",
            "Leptodactylidae       0.96      0.96      0.96      1357\n",
            "\n",
            "       accuracy                           0.93      2159\n",
            "      macro avg       0.69      0.68      0.68      2159\n",
            "   weighted avg       0.94      0.93      0.93      2159\n",
            "\n"
          ]
        }
      ],
      "source": [
        "from sklearn.metrics import hamming_loss\n",
        "prediction_fam= grid_fam.predict(X_test)\n",
        "loss_fam_l1 = hamming_loss(y_test_family, prediction_fam)\n",
        "print(\"Hamming Loss for label Family: \", loss_fam_l1)\n",
        "print(\"Exact match ratio for label Family: \", 1-loss_fam_l1)\n",
        "print(classification_report(prediction_fam, y_test_family))"
      ]
    },
    {
      "cell_type": "code",
      "execution_count": 17,
      "metadata": {
        "id": "Xq80Qe0_Xk-w",
        "colab": {
          "base_uri": "https://localhost:8080/"
        },
        "outputId": "4c7493de-a68a-4a80-c506-d470f84c5c2f"
      },
      "outputs": [
        {
          "output_type": "stream",
          "name": "stdout",
          "text": [
            "SVM Penalty for label Genus: 20.01\n"
          ]
        }
      ],
      "source": [
        "grid_genus = grid.fit(X_train, y_train_genus)\n",
        "svm_para = grid_genus.best_params_['SVC__C']\n",
        "print('SVM Penalty for label Genus:', svm_para)"
      ]
    },
    {
      "cell_type": "code",
      "execution_count": 18,
      "metadata": {
        "id": "1ar-xotGVezV",
        "colab": {
          "base_uri": "https://localhost:8080/"
        },
        "outputId": "98dc645e-44b4-4c77-fff9-931a6437a3ca"
      },
      "outputs": [
        {
          "output_type": "stream",
          "name": "stdout",
          "text": [
            "Hamming Loss for label Genus:  0.058823529411764705\n",
            "Exact match ratio for label Genus:  0.9411764705882353\n",
            "               precision    recall  f1-score   support\n",
            "\n",
            "    Adenomera       0.98      0.96      0.97      1269\n",
            "     Ameerega       0.93      0.90      0.92       168\n",
            "Dendropsophus       0.71      0.87      0.78        69\n",
            "    Hypsiboas       0.97      0.91      0.94       499\n",
            "Leptodactylus       0.91      0.98      0.94        89\n",
            "Osteocephalus       0.50      0.94      0.65        18\n",
            "     Rhinella       0.26      1.00      0.41         7\n",
            "       Scinax       0.89      0.82      0.86        40\n",
            "\n",
            "     accuracy                           0.94      2159\n",
            "    macro avg       0.77      0.92      0.81      2159\n",
            " weighted avg       0.95      0.94      0.95      2159\n",
            "\n"
          ]
        }
      ],
      "source": [
        "from sklearn.metrics import hamming_loss\n",
        "prediction_genus= grid_genus.predict(X_test)\n",
        "loss_genus_l1 = hamming_loss(y_test_genus, prediction_genus)\n",
        "print(\"Hamming Loss for label Genus: \", loss_genus_l1)\n",
        "print(\"Exact match ratio for label Genus: \", 1-loss_genus_l1)\n",
        "print(classification_report(prediction_genus, y_test_genus))"
      ]
    },
    {
      "cell_type": "code",
      "execution_count": 19,
      "metadata": {
        "id": "kAICOp2JYB7z",
        "colab": {
          "base_uri": "https://localhost:8080/"
        },
        "outputId": "cb0d08b2-b4f8-4045-c048-256a04395b17"
      },
      "outputs": [
        {
          "output_type": "stream",
          "name": "stdout",
          "text": [
            "SVM Penalty for label Species: 40.01\n"
          ]
        }
      ],
      "source": [
        "grid_species = grid.fit(X_train, y_train_species)\n",
        "svm_para = grid_species.best_params_['SVC__C']\n",
        "print('SVM Penalty for label Species:', svm_para)"
      ]
    },
    {
      "cell_type": "code",
      "execution_count": 20,
      "metadata": {
        "id": "y_yUwLkNYKH9",
        "colab": {
          "base_uri": "https://localhost:8080/"
        },
        "outputId": "e6e1fb03-767c-4e40-e270-375791b3fb72"
      },
      "outputs": [
        {
          "output_type": "stream",
          "name": "stdout",
          "text": [
            "Hamming Loss for label Species:  0.04075961093098657\n",
            "Exact match ratio for label Species:  0.9592403890690134\n",
            "                        precision    recall  f1-score   support\n",
            "\n",
            "        AdenomeraAndre       0.91      0.96      0.93       210\n",
            "AdenomeraHylaedactylus       1.00      0.99      0.99      1041\n",
            "    Ameeregatrivittata       0.94      0.91      0.92       169\n",
            "            HylaMinuta       0.77      0.89      0.83        73\n",
            "  HypsiboasCinerascens       0.96      0.92      0.94       141\n",
            "     HypsiboasCordobae       0.98      0.94      0.96       344\n",
            "   LeptodactylusFuscus       0.90      0.97      0.93        89\n",
            " OsteocephalusOophagus       0.65      0.96      0.77        23\n",
            "     Rhinellagranulosa       0.89      0.89      0.89        27\n",
            "           ScinaxRuber       0.95      0.83      0.89        42\n",
            "\n",
            "              accuracy                           0.96      2159\n",
            "             macro avg       0.89      0.93      0.91      2159\n",
            "          weighted avg       0.96      0.96      0.96      2159\n",
            "\n"
          ]
        }
      ],
      "source": [
        "from sklearn.metrics import hamming_loss\n",
        "prediction_species= grid_species.predict(X_test)\n",
        "loss_species_l1 = hamming_loss(y_test_species, prediction_species)\n",
        "print(\"Hamming Loss for label Species: \", loss_species_l1)\n",
        "print(\"Exact match ratio for label Species: \", 1-loss_species_l1)\n",
        "print(classification_report(prediction_species, y_test_species))"
      ]
    },
    {
      "cell_type": "markdown",
      "metadata": {
        "id": "pBhfZXWsZ0ez"
      },
      "source": [
        "1. (b) iv Repeat 1(b)iii by using SMOTE or any other method you know to remedy class imbalance. Report your conclusions about the classifiers you trained."
      ]
    },
    {
      "cell_type": "code",
      "execution_count": 21,
      "metadata": {
        "id": "5OVtlnlgZzo5"
      },
      "outputs": [],
      "source": [
        "from sklearn.pipeline import Pipeline\n",
        "from sklearn.preprocessing import StandardScaler\n",
        "from sklearn.svm import LinearSVC\n",
        "\n",
        "penalized_SVM = Pipeline([('scale', StandardScaler()), ('SVC',LinearSVC(penalty='l1', loss=\"squared_hinge\", dual=False, tol=1e-3))])\n",
        "param_grid = {'SVC__C':np.arange(0.01,100,10)}\n",
        "grid = GridSearchCV(penalized_SVM, param_grid, cv=KFold(10))"
      ]
    },
    {
      "cell_type": "code",
      "execution_count": 22,
      "metadata": {
        "id": "1eyhSq_PYOIT",
        "colab": {
          "base_uri": "https://localhost:8080/"
        },
        "outputId": "667b1083-7605-4253-87fa-a59a43478d19"
      },
      "outputs": [
        {
          "output_type": "stream",
          "name": "stdout",
          "text": [
            "SVM Penalty for label Family: 60.01\n"
          ]
        }
      ],
      "source": [
        "# Reference: https://www.analyticsvidhya.com/blog/2020/10/overcoming-class-imbalance-using-smote-techniques/\n",
        "\n",
        "from imblearn.over_sampling import SMOTE\n",
        "smt = SMOTE()\n",
        "X_train_sm, y_train_sm = smt.fit_resample(X_train, y_train_family)\n",
        "grid_fam = grid.fit(X_train_sm, y_train_sm)\n",
        "svm_para = grid_fam.best_params_['SVC__C']\n",
        "print('SVM Penalty for label Family:', svm_para)"
      ]
    },
    {
      "cell_type": "code",
      "execution_count": 23,
      "metadata": {
        "id": "v2NSCsTsdbtK",
        "colab": {
          "base_uri": "https://localhost:8080/"
        },
        "outputId": "f45ff109-d277-4753-8ce2-6af1cada1c33"
      },
      "outputs": [
        {
          "output_type": "stream",
          "name": "stdout",
          "text": [
            "Hamming Loss for label Family:  0.09031959240389069\n",
            "Exact match ratio for label Family:  0.9096804075961094\n",
            "                 precision    recall  f1-score   support\n",
            "\n",
            "      Bufonidae       0.89      0.35      0.50        69\n",
            "  Dendrobatidae       0.98      0.73      0.83       217\n",
            "        Hylidae       0.86      0.92      0.89       580\n",
            "Leptodactylidae       0.93      0.97      0.95      1293\n",
            "\n",
            "       accuracy                           0.91      2159\n",
            "      macro avg       0.91      0.74      0.79      2159\n",
            "   weighted avg       0.91      0.91      0.90      2159\n",
            "\n"
          ]
        }
      ],
      "source": [
        "from sklearn.metrics import hamming_loss\n",
        "prediction_fam= grid_fam.predict(X_test)\n",
        "loss_fam_smote = hamming_loss(y_test_family, prediction_fam)\n",
        "print(\"Hamming Loss for label Family: \", loss_fam_smote)\n",
        "print(\"Exact match ratio for label Family: \", 1-loss_fam_smote)\n",
        "print(classification_report(prediction_fam, y_test_family))"
      ]
    },
    {
      "cell_type": "code",
      "execution_count": 24,
      "metadata": {
        "id": "VvstGMrLftgw",
        "colab": {
          "base_uri": "https://localhost:8080/"
        },
        "outputId": "19a42e19-ec94-4f1d-e7ff-ad0caa6bb32c"
      },
      "outputs": [
        {
          "output_type": "stream",
          "name": "stdout",
          "text": [
            "SVM Penalty for label Genus: 80.01\n"
          ]
        }
      ],
      "source": [
        "from imblearn.over_sampling import SMOTE\n",
        "smt = SMOTE()\n",
        "X_train_sm, y_train_sm = smt.fit_resample(X_train, y_train_genus)\n",
        "grid_genus = grid.fit(X_train_sm, y_train_sm)\n",
        "svm_para = grid_fam.best_params_['SVC__C']\n",
        "print('SVM Penalty for label Genus:', svm_para)"
      ]
    },
    {
      "cell_type": "code",
      "execution_count": 25,
      "metadata": {
        "id": "k6TnxqXaf5zs",
        "colab": {
          "base_uri": "https://localhost:8080/"
        },
        "outputId": "54fa34e8-60fd-4416-edca-167d63d6b930"
      },
      "outputs": [
        {
          "output_type": "stream",
          "name": "stdout",
          "text": [
            "Hamming Loss for label Genus:  0.09495136637332098\n",
            "Exact match ratio for label Genus:  0.905048633626679\n",
            "               precision    recall  f1-score   support\n",
            "\n",
            "    Adenomera       0.89      0.98      0.94      1136\n",
            "     Ameerega       0.95      0.82      0.88       187\n",
            "Dendropsophus       0.88      0.58      0.70       128\n",
            "    Hypsiboas       0.92      0.95      0.94       456\n",
            "Leptodactylus       0.90      0.97      0.93        89\n",
            "Osteocephalus       0.88      0.53      0.66        57\n",
            "     Rhinella       0.93      0.44      0.60        57\n",
            "       Scinax       0.97      0.73      0.84        49\n",
            "\n",
            "     accuracy                           0.91      2159\n",
            "    macro avg       0.92      0.75      0.81      2159\n",
            " weighted avg       0.91      0.91      0.90      2159\n",
            "\n"
          ]
        }
      ],
      "source": [
        "from sklearn.metrics import hamming_loss\n",
        "prediction_genus= grid_genus.predict(X_test)\n",
        "loss_genus_smote = hamming_loss(y_test_genus, prediction_genus)\n",
        "print(\"Hamming Loss for label Genus: \", loss_genus_smote)\n",
        "print(\"Exact match ratio for label Genus: \", 1-loss_genus_smote)\n",
        "print(classification_report(prediction_genus, y_test_genus))"
      ]
    },
    {
      "cell_type": "code",
      "execution_count": 26,
      "metadata": {
        "id": "5C3UqwdV0elp",
        "colab": {
          "base_uri": "https://localhost:8080/"
        },
        "outputId": "899c215f-ff92-491b-b368-c480b1af4eca"
      },
      "outputs": [
        {
          "output_type": "stream",
          "name": "stdout",
          "text": [
            "SVM Penalty for label Species: 60.01\n"
          ]
        }
      ],
      "source": [
        "from imblearn.over_sampling import SMOTE\n",
        "smt = SMOTE()\n",
        "X_train_sm, y_train_sm = smt.fit_resample(X_train, y_train_species)\n",
        "grid_species = grid.fit(X_train_sm, y_train_sm)\n",
        "svm_para = grid_species.best_params_['SVC__C']\n",
        "print('SVM Penalty for label Species:', svm_para)"
      ]
    },
    {
      "cell_type": "code",
      "execution_count": 27,
      "metadata": {
        "id": "OKPySDZA081K",
        "colab": {
          "base_uri": "https://localhost:8080/"
        },
        "outputId": "9e25cecf-da10-46bf-b5f5-43241288b71e"
      },
      "outputs": [
        {
          "output_type": "stream",
          "name": "stdout",
          "text": [
            "Hamming Loss for label Species:  0.041222788327929596\n",
            "Exact match ratio for label Species:  0.9587772116720704\n",
            "                        precision    recall  f1-score   support\n",
            "\n",
            "        AdenomeraAndre       0.90      0.97      0.93       204\n",
            "AdenomeraHylaedactylus       1.00      1.00      1.00      1031\n",
            "    Ameeregatrivittata       0.93      0.92      0.92       165\n",
            "            HylaMinuta       0.88      0.83      0.86        89\n",
            "  HypsiboasCinerascens       0.96      0.93      0.94       139\n",
            "     HypsiboasCordobae       0.95      0.97      0.96       326\n",
            "   LeptodactylusFuscus       0.91      0.98      0.94        89\n",
            " OsteocephalusOophagus       0.85      0.78      0.82        37\n",
            "     Rhinellagranulosa       0.93      0.71      0.81        35\n",
            "           ScinaxRuber       0.97      0.82      0.89        44\n",
            "\n",
            "              accuracy                           0.96      2159\n",
            "             macro avg       0.93      0.89      0.91      2159\n",
            "          weighted avg       0.96      0.96      0.96      2159\n",
            "\n"
          ]
        }
      ],
      "source": [
        "from sklearn.metrics import hamming_loss\n",
        "prediction_species= grid_species.predict(X_test)\n",
        "loss_species_smote = hamming_loss(y_test_species, prediction_species)\n",
        "print(\"Hamming Loss for label Species: \", loss_species_smote)\n",
        "print(\"Exact match ratio for label Species: \", 1-loss_species_smote)\n",
        "print(classification_report(prediction_species, y_test_species))"
      ]
    },
    {
      "cell_type": "code",
      "execution_count": 28,
      "metadata": {
        "id": "SmnYxoyuICMs",
        "colab": {
          "base_uri": "https://localhost:8080/",
          "height": 143
        },
        "outputId": "66eae831-8361-441c-f8a2-ab4dedd768f9"
      },
      "outputs": [
        {
          "output_type": "execute_result",
          "data": {
            "text/plain": [
              "                              Hamming loss for Label Family  \\\n",
              "Gaussian Kernel SVM Model                          0.004169   \n",
              "L1 penalized SVM Model                             0.071792   \n",
              "SMOTE L1 penalized SVM Model                       0.090320   \n",
              "\n",
              "                              Hamming loss for Label Genus  \\\n",
              "Gaussian Kernel SVM Model                         0.008800   \n",
              "L1 penalized SVM Model                            0.058824   \n",
              "SMOTE L1 penalized SVM Model                      0.094951   \n",
              "\n",
              "                              Hamming loss for Label Species  \n",
              "Gaussian Kernel SVM Model                           0.007874  \n",
              "L1 penalized SVM Model                              0.040760  \n",
              "SMOTE L1 penalized SVM Model                        0.041223  "
            ],
            "text/html": [
              "\n",
              "  <div id=\"df-4a9504a4-0d18-4171-8aef-95311c844d3e\">\n",
              "    <div class=\"colab-df-container\">\n",
              "      <div>\n",
              "<style scoped>\n",
              "    .dataframe tbody tr th:only-of-type {\n",
              "        vertical-align: middle;\n",
              "    }\n",
              "\n",
              "    .dataframe tbody tr th {\n",
              "        vertical-align: top;\n",
              "    }\n",
              "\n",
              "    .dataframe thead th {\n",
              "        text-align: right;\n",
              "    }\n",
              "</style>\n",
              "<table border=\"1\" class=\"dataframe\">\n",
              "  <thead>\n",
              "    <tr style=\"text-align: right;\">\n",
              "      <th></th>\n",
              "      <th>Hamming loss for Label Family</th>\n",
              "      <th>Hamming loss for Label Genus</th>\n",
              "      <th>Hamming loss for Label Species</th>\n",
              "    </tr>\n",
              "  </thead>\n",
              "  <tbody>\n",
              "    <tr>\n",
              "      <th>Gaussian Kernel SVM Model</th>\n",
              "      <td>0.004169</td>\n",
              "      <td>0.008800</td>\n",
              "      <td>0.007874</td>\n",
              "    </tr>\n",
              "    <tr>\n",
              "      <th>L1 penalized SVM Model</th>\n",
              "      <td>0.071792</td>\n",
              "      <td>0.058824</td>\n",
              "      <td>0.040760</td>\n",
              "    </tr>\n",
              "    <tr>\n",
              "      <th>SMOTE L1 penalized SVM Model</th>\n",
              "      <td>0.090320</td>\n",
              "      <td>0.094951</td>\n",
              "      <td>0.041223</td>\n",
              "    </tr>\n",
              "  </tbody>\n",
              "</table>\n",
              "</div>\n",
              "      <button class=\"colab-df-convert\" onclick=\"convertToInteractive('df-4a9504a4-0d18-4171-8aef-95311c844d3e')\"\n",
              "              title=\"Convert this dataframe to an interactive table.\"\n",
              "              style=\"display:none;\">\n",
              "        \n",
              "  <svg xmlns=\"http://www.w3.org/2000/svg\" height=\"24px\"viewBox=\"0 0 24 24\"\n",
              "       width=\"24px\">\n",
              "    <path d=\"M0 0h24v24H0V0z\" fill=\"none\"/>\n",
              "    <path d=\"M18.56 5.44l.94 2.06.94-2.06 2.06-.94-2.06-.94-.94-2.06-.94 2.06-2.06.94zm-11 1L8.5 8.5l.94-2.06 2.06-.94-2.06-.94L8.5 2.5l-.94 2.06-2.06.94zm10 10l.94 2.06.94-2.06 2.06-.94-2.06-.94-.94-2.06-.94 2.06-2.06.94z\"/><path d=\"M17.41 7.96l-1.37-1.37c-.4-.4-.92-.59-1.43-.59-.52 0-1.04.2-1.43.59L10.3 9.45l-7.72 7.72c-.78.78-.78 2.05 0 2.83L4 21.41c.39.39.9.59 1.41.59.51 0 1.02-.2 1.41-.59l7.78-7.78 2.81-2.81c.8-.78.8-2.07 0-2.86zM5.41 20L4 18.59l7.72-7.72 1.47 1.35L5.41 20z\"/>\n",
              "  </svg>\n",
              "      </button>\n",
              "      \n",
              "  <style>\n",
              "    .colab-df-container {\n",
              "      display:flex;\n",
              "      flex-wrap:wrap;\n",
              "      gap: 12px;\n",
              "    }\n",
              "\n",
              "    .colab-df-convert {\n",
              "      background-color: #E8F0FE;\n",
              "      border: none;\n",
              "      border-radius: 50%;\n",
              "      cursor: pointer;\n",
              "      display: none;\n",
              "      fill: #1967D2;\n",
              "      height: 32px;\n",
              "      padding: 0 0 0 0;\n",
              "      width: 32px;\n",
              "    }\n",
              "\n",
              "    .colab-df-convert:hover {\n",
              "      background-color: #E2EBFA;\n",
              "      box-shadow: 0px 1px 2px rgba(60, 64, 67, 0.3), 0px 1px 3px 1px rgba(60, 64, 67, 0.15);\n",
              "      fill: #174EA6;\n",
              "    }\n",
              "\n",
              "    [theme=dark] .colab-df-convert {\n",
              "      background-color: #3B4455;\n",
              "      fill: #D2E3FC;\n",
              "    }\n",
              "\n",
              "    [theme=dark] .colab-df-convert:hover {\n",
              "      background-color: #434B5C;\n",
              "      box-shadow: 0px 1px 3px 1px rgba(0, 0, 0, 0.15);\n",
              "      filter: drop-shadow(0px 1px 2px rgba(0, 0, 0, 0.3));\n",
              "      fill: #FFFFFF;\n",
              "    }\n",
              "  </style>\n",
              "\n",
              "      <script>\n",
              "        const buttonEl =\n",
              "          document.querySelector('#df-4a9504a4-0d18-4171-8aef-95311c844d3e button.colab-df-convert');\n",
              "        buttonEl.style.display =\n",
              "          google.colab.kernel.accessAllowed ? 'block' : 'none';\n",
              "\n",
              "        async function convertToInteractive(key) {\n",
              "          const element = document.querySelector('#df-4a9504a4-0d18-4171-8aef-95311c844d3e');\n",
              "          const dataTable =\n",
              "            await google.colab.kernel.invokeFunction('convertToInteractive',\n",
              "                                                     [key], {});\n",
              "          if (!dataTable) return;\n",
              "\n",
              "          const docLinkHtml = 'Like what you see? Visit the ' +\n",
              "            '<a target=\"_blank\" href=https://colab.research.google.com/notebooks/data_table.ipynb>data table notebook</a>'\n",
              "            + ' to learn more about interactive tables.';\n",
              "          element.innerHTML = '';\n",
              "          dataTable['output_type'] = 'display_data';\n",
              "          await google.colab.output.renderOutput(dataTable, element);\n",
              "          const docLink = document.createElement('div');\n",
              "          docLink.innerHTML = docLinkHtml;\n",
              "          element.appendChild(docLink);\n",
              "        }\n",
              "      </script>\n",
              "    </div>\n",
              "  </div>\n",
              "  "
            ]
          },
          "metadata": {},
          "execution_count": 28
        }
      ],
      "source": [
        "loss_table = pd.DataFrame([[loss_fam_svm, loss_genus_svm, loss_species_svm], [loss_fam_l1,loss_genus_l1,loss_species_l1],\n",
        "                    [loss_fam_smote, loss_genus_smote, loss_species_smote]],\n",
        "                    index=[\"Gaussian Kernel SVM Model\",\"L1 penalized SVM Model \",\"SMOTE L1 penalized SVM Model\"],\n",
        "                    columns=[\"Hamming loss for Label Family\", \"Hamming loss for Label Genus\", \"Hamming loss for Label Species\"])\n",
        "loss_table"
      ]
    },
    {
      "cell_type": "markdown",
      "metadata": {
        "id": "ofgN4k0uoa_y"
      },
      "source": [
        "2. (a) Use k-means clustering on the whole Anuran Calls (MFCCs) Data Set (do not split the data into train and test, as we are not performing supervised learning in this exercise). Choose k∈ {1,2, . . . ,50} automatically based on one of the methods provided in the slides (CH or Gap Statistics or scree plots or Silhouettes) or any other method you know"
      ]
    },
    {
      "cell_type": "code",
      "execution_count": 29,
      "metadata": {
        "id": "6AB__RxXgJEU"
      },
      "outputs": [],
      "source": [
        "dat = data.iloc[:,:22]\n",
        "labels = data.iloc[:,22:25]"
      ]
    },
    {
      "cell_type": "code",
      "execution_count": 30,
      "metadata": {
        "id": "0tT_Pg-FsSbS",
        "colab": {
          "base_uri": "https://localhost:8080/"
        },
        "outputId": "b4c9c1eb-2e90-49ca-89bc-7e12789ebaff"
      },
      "outputs": [
        {
          "output_type": "stream",
          "name": "stdout",
          "text": [
            "The minimum value of k: 4 is obtained for Silhouette score of 0.37887860676082563\n"
          ]
        }
      ],
      "source": [
        "# Reference: https://towardsdatascience.com/clustering-with-k-means-1e07a8bfb7ca\n",
        "\n",
        "from sklearn.cluster import KMeans\n",
        "from sklearn import metrics\n",
        "k_values = []\n",
        "score= []\n",
        "for k in range(2,51):\n",
        "    kmeans_model = KMeans(n_clusters = k, tol = 0.1)\n",
        "    kmeans_model = kmeans_model.fit(dat)\n",
        "    cluster = kmeans_model.labels_\n",
        "    silscore = metrics.silhouette_score(dat, cluster)\n",
        "    k_values.append(k)\n",
        "    score.append(silscore)\n",
        "max_score = max(score)\n",
        "k_min = k_values[score.index(max_score)]\n",
        "print('The minimum value of k:',k_min,'is obtained for Silhouette score of',max_score)"
      ]
    },
    {
      "cell_type": "code",
      "execution_count": 31,
      "metadata": {
        "id": "PDYAO4BEfWKH"
      },
      "outputs": [],
      "source": [
        "# Reference: https://stackoverflow.com/questions/15222754/groupby-pandas-dataframe-and-select-most-common-value\n",
        "\n",
        "kmeans_model = KMeans(n_clusters = k_min)\n",
        "kmeans_model = kmeans_model.fit(dat)\n",
        "cluster = kmeans_model.labels_\n",
        "labels['labels'] = cluster"
      ]
    },
    {
      "cell_type": "markdown",
      "metadata": {
        "id": "aXrckQLp1Zab"
      },
      "source": [
        "2. (b) In each cluster, determine which family is the majority by reading the true labels. Repeat for genus and species"
      ]
    },
    {
      "cell_type": "code",
      "execution_count": 32,
      "metadata": {
        "id": "GtDp4qQhz61Z",
        "colab": {
          "base_uri": "https://localhost:8080/"
        },
        "outputId": "5d16a68d-df2f-4d4c-97e7-1811a92f9ec5"
      },
      "outputs": [
        {
          "output_type": "stream",
          "name": "stdout",
          "text": [
            "Majority labels in class Family\n",
            "labels\n",
            "0            Hylidae\n",
            "1    Leptodactylidae\n",
            "2            Hylidae\n",
            "3      Dendrobatidae\n",
            "Name: Family, dtype: object\n"
          ]
        }
      ],
      "source": [
        "frequency_fam = labels.groupby(\"labels\")[\"Family\"].agg(pd.Series.mode)\n",
        "print(\"Majority labels in class Family\")\n",
        "print(frequency_fam)"
      ]
    },
    {
      "cell_type": "code",
      "execution_count": 33,
      "metadata": {
        "id": "affzdzbQ0JsB",
        "colab": {
          "base_uri": "https://localhost:8080/"
        },
        "outputId": "e1de13d1-9f6f-4318-d313-4d8f24e21a82"
      },
      "outputs": [
        {
          "output_type": "stream",
          "name": "stdout",
          "text": [
            "Majority labels in class Genus\n",
            "labels\n",
            "0    Hypsiboas\n",
            "1    Adenomera\n",
            "2    Hypsiboas\n",
            "3     Ameerega\n",
            "Name: Genus, dtype: object\n"
          ]
        }
      ],
      "source": [
        "frequency_genus = labels.groupby(\"labels\")[\"Genus\"].agg(pd.Series.mode)\n",
        "print(\"Majority labels in class Genus\")\n",
        "print(frequency_genus)"
      ]
    },
    {
      "cell_type": "code",
      "execution_count": 34,
      "metadata": {
        "id": "mF3k4qHc0WwR",
        "colab": {
          "base_uri": "https://localhost:8080/"
        },
        "outputId": "7ffc66ba-2404-4e9f-addb-1368be0a74ea"
      },
      "outputs": [
        {
          "output_type": "stream",
          "name": "stdout",
          "text": [
            "Majority labels in class Species\n",
            "labels\n",
            "0         HypsiboasCordobae\n",
            "1    AdenomeraHylaedactylus\n",
            "2      HypsiboasCinerascens\n",
            "3        Ameeregatrivittata\n",
            "Name: Species, dtype: object\n"
          ]
        }
      ],
      "source": [
        "frequency_species = labels.groupby(\"labels\")[\"Species\"].agg(pd.Series.mode)\n",
        "print(\"Majority labels in class Species\")\n",
        "print(frequency_species)"
      ]
    },
    {
      "cell_type": "markdown",
      "metadata": {
        "id": "NEOnPGBX159x"
      },
      "source": [
        "2. (c) Now for each cluster you have a majority label triplet (family, genus, species). Calculate the average Hamming distance, Hamming score, and Hamming loss between the true labels and the labels assigned by clusters"
      ]
    },
    {
      "cell_type": "code",
      "execution_count": 35,
      "metadata": {
        "id": "-NHZqnECZXe3"
      },
      "outputs": [],
      "source": [
        "y_family, y_genus, y_species  = labels['Family'], labels['Genus'], labels['Species']"
      ]
    },
    {
      "cell_type": "code",
      "source": [
        "dat = data.iloc[:,:22]\n",
        "labels = data.iloc[:,22:25]"
      ],
      "metadata": {
        "id": "eq7_GsjZ1EOS"
      },
      "execution_count": 37,
      "outputs": []
    },
    {
      "cell_type": "code",
      "execution_count": 38,
      "metadata": {
        "id": "ZMSy6vgc1UmR",
        "colab": {
          "base_uri": "https://localhost:8080/"
        },
        "outputId": "bce310c2-ecfa-49de-863a-2604b90a8ef1"
      },
      "outputs": [
        {
          "output_type": "stream",
          "name": "stdout",
          "text": [
            "Iteration  1\n",
            "Best value of k:  3\n",
            "Hamming Score:  0.7031735001158211\n",
            "Hamming Loss:  0.29682649988417886\n",
            "Hamming Distance:  6408\n",
            "Iteration  2\n",
            "Best value of k:  4\n",
            "Hamming Score:  0.7775770210794534\n",
            "Hamming Loss:  0.22242297892054663\n",
            "Hamming Distance:  4801\n",
            "Iteration  3\n",
            "Best value of k:  6\n",
            "Hamming Score:  0.8317813296270559\n",
            "Hamming Loss:  0.16821867037294413\n",
            "Hamming Distance:  3631\n",
            "Iteration  4\n",
            "Best value of k:  4\n",
            "Hamming Score:  0.7775770210794534\n",
            "Hamming Loss:  0.22242297892054663\n",
            "Hamming Distance:  4801\n",
            "Iteration  5\n",
            "Best value of k:  4\n",
            "Hamming Score:  0.7775770210794534\n",
            "Hamming Loss:  0.22242297892054663\n",
            "Hamming Distance:  4801\n",
            "Iteration  6\n",
            "Best value of k:  4\n",
            "Hamming Score:  0.7775770210794534\n",
            "Hamming Loss:  0.22242297892054663\n",
            "Hamming Distance:  4801\n",
            "Iteration  7\n",
            "Best value of k:  4\n",
            "Hamming Score:  0.754876071345842\n",
            "Hamming Loss:  0.245123928654158\n",
            "Hamming Distance:  5291\n",
            "Iteration  8\n",
            "Best value of k:  4\n",
            "Hamming Score:  0.7775770210794534\n",
            "Hamming Loss:  0.22242297892054663\n",
            "Hamming Distance:  4801\n",
            "Iteration  9\n",
            "Best value of k:  3\n",
            "Hamming Score:  0.7031735001158211\n",
            "Hamming Loss:  0.29682649988417886\n",
            "Hamming Distance:  6408\n",
            "Iteration  10\n",
            "Best value of k:  4\n",
            "Hamming Score:  0.7778549918925179\n",
            "Hamming Loss:  0.22214500810748206\n",
            "Hamming Distance:  4795\n",
            "Iteration  11\n",
            "Best value of k:  5\n",
            "Hamming Score:  0.8321056289089646\n",
            "Hamming Loss:  0.16789437109103544\n",
            "Hamming Distance:  3624\n",
            "Iteration  12\n",
            "Best value of k:  3\n",
            "Hamming Score:  0.7032198285846653\n",
            "Hamming Loss:  0.29678017141533475\n",
            "Hamming Distance:  6407\n",
            "Iteration  13\n",
            "Best value of k:  5\n",
            "Hamming Score:  0.8322446143154969\n",
            "Hamming Loss:  0.1677553856845031\n",
            "Hamming Distance:  3621\n",
            "Iteration  14\n",
            "Best value of k:  6\n",
            "Hamming Score:  0.8317813296270559\n",
            "Hamming Loss:  0.16821867037294413\n",
            "Hamming Distance:  3631\n",
            "Iteration  15\n",
            "Best value of k:  5\n",
            "Hamming Score:  0.8321056289089646\n",
            "Hamming Loss:  0.16789437109103544\n",
            "Hamming Distance:  3624\n",
            "Iteration  16\n",
            "Best value of k:  3\n",
            "Hamming Score:  0.7031735001158211\n",
            "Hamming Loss:  0.29682649988417886\n",
            "Hamming Distance:  6408\n",
            "Iteration  17\n",
            "Best value of k:  4\n",
            "Hamming Score:  0.7547370859393097\n",
            "Hamming Loss:  0.24526291406069034\n",
            "Hamming Distance:  5295\n",
            "Iteration  18\n",
            "Best value of k:  4\n",
            "Hamming Score:  0.7775770210794534\n",
            "Hamming Loss:  0.22242297892054663\n",
            "Hamming Distance:  4801\n",
            "Iteration  19\n",
            "Best value of k:  4\n",
            "Hamming Score:  0.7775770210794534\n",
            "Hamming Loss:  0.22242297892054663\n",
            "Hamming Distance:  4801\n",
            "Iteration  20\n",
            "Best value of k:  5\n",
            "Hamming Score:  0.8322446143154969\n",
            "Hamming Loss:  0.1677553856845031\n",
            "Hamming Distance:  3621\n",
            "Iteration  21\n",
            "Best value of k:  4\n",
            "Hamming Score:  0.7779476488302062\n",
            "Hamming Loss:  0.22205235116979383\n",
            "Hamming Distance:  4793\n",
            "Iteration  22\n",
            "Best value of k:  4\n",
            "Hamming Score:  0.7775770210794534\n",
            "Hamming Loss:  0.22242297892054663\n",
            "Hamming Distance:  4801\n",
            "Iteration  23\n",
            "Best value of k:  4\n",
            "Hamming Score:  0.7777160064859856\n",
            "Hamming Loss:  0.2222839935140144\n",
            "Hamming Distance:  4799\n",
            "Iteration  24\n",
            "Best value of k:  4\n",
            "Hamming Score:  0.7775770210794534\n",
            "Hamming Loss:  0.22242297892054663\n",
            "Hamming Distance:  4801\n",
            "Iteration  25\n",
            "Best value of k:  4\n",
            "Hamming Score:  0.7775770210794534\n",
            "Hamming Loss:  0.22242297892054663\n",
            "Hamming Distance:  4801\n",
            "Iteration  26\n",
            "Best value of k:  6\n",
            "Hamming Score:  0.8317350011582118\n",
            "Hamming Loss:  0.16826499884178825\n",
            "Hamming Distance:  3632\n",
            "Iteration  27\n",
            "Best value of k:  3\n",
            "Hamming Score:  0.7031735001158211\n",
            "Hamming Loss:  0.29682649988417886\n",
            "Hamming Distance:  6408\n",
            "Iteration  28\n",
            "Best value of k:  5\n",
            "Hamming Score:  0.8322446143154969\n",
            "Hamming Loss:  0.1677553856845031\n",
            "Hamming Distance:  3621\n",
            "Iteration  29\n",
            "Best value of k:  3\n",
            "Hamming Score:  0.7031735001158211\n",
            "Hamming Loss:  0.29682649988417886\n",
            "Hamming Distance:  6408\n",
            "Iteration  30\n",
            "Best value of k:  5\n",
            "Hamming Score:  0.8322446143154969\n",
            "Hamming Loss:  0.1677553856845031\n",
            "Hamming Distance:  3621\n",
            "Iteration  31\n",
            "Best value of k:  6\n",
            "Hamming Score:  0.8317813296270559\n",
            "Hamming Loss:  0.16821867037294413\n",
            "Hamming Distance:  3631\n",
            "Iteration  32\n",
            "Best value of k:  4\n",
            "Hamming Score:  0.7777160064859856\n",
            "Hamming Loss:  0.2222839935140144\n",
            "Hamming Distance:  4799\n",
            "Iteration  33\n",
            "Best value of k:  4\n",
            "Hamming Score:  0.7658559184618948\n",
            "Hamming Loss:  0.23414408153810518\n",
            "Hamming Distance:  5054\n",
            "Iteration  34\n",
            "Best value of k:  4\n",
            "Hamming Score:  0.7666435024322447\n",
            "Hamming Loss:  0.23335649756775534\n",
            "Hamming Distance:  5037\n",
            "Iteration  35\n",
            "Best value of k:  3\n",
            "Hamming Score:  0.7031735001158211\n",
            "Hamming Loss:  0.29682649988417886\n",
            "Hamming Distance:  6408\n",
            "Iteration  36\n",
            "Best value of k:  4\n",
            "Hamming Score:  0.7775770210794534\n",
            "Hamming Loss:  0.22242297892054663\n",
            "Hamming Distance:  4801\n",
            "Iteration  37\n",
            "Best value of k:  5\n",
            "Hamming Score:  0.8322446143154969\n",
            "Hamming Loss:  0.1677553856845031\n",
            "Hamming Distance:  3621\n",
            "Iteration  38\n",
            "Best value of k:  4\n",
            "Hamming Score:  0.7775770210794534\n",
            "Hamming Loss:  0.22242297892054663\n",
            "Hamming Distance:  4801\n",
            "Iteration  39\n",
            "Best value of k:  4\n",
            "Hamming Score:  0.7775770210794534\n",
            "Hamming Loss:  0.22242297892054663\n",
            "Hamming Distance:  4801\n",
            "Iteration  40\n",
            "Best value of k:  5\n",
            "Hamming Score:  0.8322446143154969\n",
            "Hamming Loss:  0.1677553856845031\n",
            "Hamming Distance:  3621\n",
            "Iteration  41\n",
            "Best value of k:  5\n",
            "Hamming Score:  0.8322446143154969\n",
            "Hamming Loss:  0.1677553856845031\n",
            "Hamming Distance:  3621\n",
            "Iteration  42\n",
            "Best value of k:  5\n",
            "Hamming Score:  0.8322446143154969\n",
            "Hamming Loss:  0.1677553856845031\n",
            "Hamming Distance:  3621\n",
            "Iteration  43\n",
            "Best value of k:  4\n",
            "Hamming Score:  0.7661338892749595\n",
            "Hamming Loss:  0.2338661107250405\n",
            "Hamming Distance:  5048\n",
            "Iteration  44\n",
            "Best value of k:  5\n",
            "Hamming Score:  0.8322446143154969\n",
            "Hamming Loss:  0.1677553856845031\n",
            "Hamming Distance:  3621\n",
            "Iteration  45\n",
            "Best value of k:  3\n",
            "Hamming Score:  0.7031735001158211\n",
            "Hamming Loss:  0.29682649988417886\n",
            "Hamming Distance:  6408\n",
            "Iteration  46\n",
            "Best value of k:  4\n",
            "Hamming Score:  0.7775770210794534\n",
            "Hamming Loss:  0.22242297892054663\n",
            "Hamming Distance:  4801\n",
            "Iteration  47\n",
            "Best value of k:  4\n",
            "Hamming Score:  0.7775306926106093\n",
            "Hamming Loss:  0.22246930738939075\n",
            "Hamming Distance:  4802\n",
            "Iteration  48\n",
            "Best value of k:  5\n",
            "Hamming Score:  0.8322446143154969\n",
            "Hamming Loss:  0.1677553856845031\n",
            "Hamming Distance:  3621\n",
            "Iteration  49\n",
            "Best value of k:  5\n",
            "Hamming Score:  0.8322446143154969\n",
            "Hamming Loss:  0.1677553856845031\n",
            "Hamming Distance:  3621\n",
            "Iteration  50\n",
            "Best value of k:  4\n",
            "Hamming Score:  0.7775770210794534\n",
            "Hamming Loss:  0.22242297892054663\n",
            "Hamming Distance:  4801\n"
          ]
        }
      ],
      "source": [
        "from math import ceil\n",
        "# Reference: https://scikit-learn.org/stable/modules/generated/sklearn.cluster.MiniBatchKMeans.html\n",
        "from sklearn.cluster import MiniBatchKMeans\n",
        "from collections import defaultdict\n",
        "\n",
        "hamming_distance_list = []\n",
        "hamming_score_list = []\n",
        "hamming_loss_list = []\n",
        "for i in range(50):\n",
        "    total = defaultdict(list)\n",
        "    c1, c2, c3 = defaultdict(list), defaultdict(list), defaultdict(list) \n",
        "    max_fam, max_genus, max_species,  = defaultdict(list), defaultdict(list), defaultdict(list)\n",
        "    score = []\n",
        "    k_values = []\n",
        "    for k in range(2, 51):\n",
        "        kmeans_model = MiniBatchKMeans(n_clusters = k)\n",
        "        kmeans_model = kmeans_model.fit(dat)\n",
        "        cluster = kmeans_model.labels_\n",
        "        silscore = metrics.silhouette_score(dat, cluster)\n",
        "        k_values.append(k)\n",
        "        score.append(silscore)\n",
        "\n",
        "    max_score = max(score)\n",
        "    k_min = k_values[score.index(max_score)]\n",
        "    kmeans = KMeans(n_clusters=k_min)\n",
        "    kmeans = kmeans.fit(dat)\n",
        "    label_names = kmeans.labels_\n",
        "\n",
        "    for j in range(len(label_names)):\n",
        "        c1[label_names[j]].append(y_family[j])\n",
        "        c2[label_names[j]].append(y_genus[j])\n",
        "        c3[label_names[j]].append(y_species[j])\n",
        "\n",
        "    for j in range(k_min):\n",
        "      max_fam[j] = max(c1[j],key=c1[j].count) \n",
        "      max_genus[j] = max(c2[j],key=c2[j].count)\n",
        "      max_species[j] = max(c3[j],key=c3[j].count)\n",
        "      total[j] = [max_fam[j], max_genus[j], max_species[j]]\n",
        "\n",
        "    prediction = []\n",
        "    for l in label_names:\n",
        "        prediction.append(total[l])\n",
        "\n",
        "    col = ['Family', 'Genus', 'Species'] \n",
        "    prediction = pd.DataFrame(data=prediction, columns=col)\n",
        "    \n",
        "    hammingscore = np.sum(np.equal(labels.to_numpy(), prediction.to_numpy()))/float(labels.to_numpy().size)\n",
        "    hammingloss = 1 - hammingscore\n",
        "    hammingdistance = ceil(hammingloss * float(labels.to_numpy().size))\n",
        "\n",
        "    hamming_distance_list.append(hammingdistance)\n",
        "    hamming_score_list.append(hammingscore)\n",
        "    hamming_loss_list.append(hammingloss)\n",
        "\n",
        "    print(\"Iteration \", i+1)\n",
        "    print(\"Best value of k: \",k_min)\n",
        "    print(\"Hamming Score: \", hammingscore)\n",
        "    print(\"Hamming Loss: \",hammingloss)\n",
        "    print(\"Hamming Distance: \",hammingdistance)"
      ]
    },
    {
      "cell_type": "code",
      "execution_count": 39,
      "metadata": {
        "id": "VDMDhKbegKFR",
        "colab": {
          "base_uri": "https://localhost:8080/"
        },
        "outputId": "eadc8f7f-a870-4989-a190-72da2a0fc539"
      },
      "outputs": [
        {
          "output_type": "stream",
          "name": "stdout",
          "text": [
            "Mean of the Hamming Distances:  4691.9\n",
            "Standard Deviation of the Hamming Distances:  941.1324720781873\n",
            "Mean of the Hamming Loss:  0.2173583507065091\n",
            "Standard Deviation of the Hamming Loss:  0.04358690825455706\n",
            "Mean of the Hamming Score:  0.7826416492934908\n",
            "Standard Deviation of the Hamming Score:  0.04358690825455706\n"
          ]
        }
      ],
      "source": [
        "mean_dist = np.mean(hamming_distance_list)\n",
        "std_dist = np.std(hamming_distance_list)\n",
        "\n",
        "mean_loss = np.mean(hamming_loss_list)\n",
        "std_loss = np.std(hamming_loss_list)\n",
        "\n",
        "mean_score = np.mean(hamming_score_list)\n",
        "std_score = np.std(hamming_score_list)\n",
        "\n",
        "print(\"Mean of the Hamming Distances: \", mean_dist )\n",
        "print(\"Standard Deviation of the Hamming Distances: \", std_dist )\n",
        "print(\"Mean of the Hamming Loss: \", mean_loss )\n",
        "print(\"Standard Deviation of the Hamming Loss: \", std_loss )\n",
        "print(\"Mean of the Hamming Score: \", mean_score )\n",
        "print(\"Standard Deviation of the Hamming Score: \", std_score )"
      ]
    },
    {
      "cell_type": "markdown",
      "source": [
        "3. ISLR 12.6.2"
      ],
      "metadata": {
        "id": "03xYOlSW2B0l"
      }
    },
    {
      "cell_type": "markdown",
      "source": [
        "![ISLR 12.6.2 (2).jpeg](data:image/jpeg;base64,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)"
      ],
      "metadata": {
        "id": "aNmapiUI_oG8"
      }
    },
    {
      "cell_type": "code",
      "source": [],
      "metadata": {
        "id": "APIArNrM_p7o"
      },
      "execution_count": null,
      "outputs": []
    }
  ],
  "metadata": {
    "colab": {
      "collapsed_sections": [],
      "provenance": []
    },
    "kernelspec": {
      "display_name": "Python 3",
      "name": "python3"
    },
    "language_info": {
      "name": "python"
    }
  },
  "nbformat": 4,
  "nbformat_minor": 0
}